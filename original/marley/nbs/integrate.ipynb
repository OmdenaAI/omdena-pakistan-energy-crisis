{
 "cells": [
  {
   "cell_type": "code",
   "execution_count": 237,
   "metadata": {},
   "outputs": [
    {
     "name": "stderr",
     "output_type": "stream",
     "text": [
      "[cellevents:INFO]:starting (cellevents.py:43, time=Dec-24 17:12)\n"
     ]
    },
    {
     "name": "stdout",
     "output_type": "stream",
     "text": [
      "time: 32 ms\n"
     ]
    }
   ],
   "source": [
    "from ipstartup import *\n",
    "import geopandas as gpd\n",
    "from marley import config as c\n",
    "import rasterio\n",
    "from rasterio import features\n",
    "from shapely import wkt\n",
    "from shapely.geometry import shape, Point\n",
    "from geopy.distance import distance, geodesic\n",
    "deg2km = geodesic((5,3), (6,3)).km\n",
    "km2deg = 1/deg2km\n",
    "deg2km, km2deg\n",
    "repo = r\"C:\\Users\\simon\\OneDrive\\Documents\\py\\live\\renewable\"\n",
    "os.chdir(c.localpath)\n",
    "os.chdir(\"clusters_500m\")"
   ]
  },
  {
   "cell_type": "code",
   "execution_count": 239,
   "metadata": {
    "scrolled": true
   },
   "outputs": [
    {
     "name": "stderr",
     "output_type": "stream",
     "text": [
      "[cellevents:INFO]:starting (cellevents.py:43, time=Dec-24 17:13)\n",
      "[fiona._env:ERROR]:../grid3/lights.geojson: No such file or directory (collection.py:157, time=Dec-24 17:13)\n",
      "[fiona._env:WARNING]:driver GeoJSON does not support creation option ENCODING (collection.py:157, time=Dec-24 17:13)\n"
     ]
    },
    {
     "name": "stdout",
     "output_type": "stream",
     "text": [
      "time: 8.95 s\n"
     ]
    }
   ],
   "source": [
    "with rasterio.open(\"../grid3/lights.tif\") as src:\n",
    "    lights = src.read(1)\n",
    "mask = lights>0\n",
    "shapes = features.shapes(lights, mask=mask)\n",
    "shapes = [s[0] for s in shapes]\n",
    "\n",
    "transform = rasterio.open(\"../grid3/lights.tif\").transform\n",
    "lonlat_shapes = []\n",
    "for s in shapes:\n",
    "    coords = [(x,y)*transform for x,y in s[\"coordinates\"][0]]\n",
    "    lonlat_shapes.append(Polygon(coords))\n",
    "\n",
    "gdf = gpd.GeoDataFrame.from_dict(dict(geometry=lonlat_shapes))\n",
    "gdf.to_file(\"../grid3/lights.geojson\", driver=\"GeoJSON\", encoding=\"utf8\")"
   ]
  },
  {
   "cell_type": "code",
   "execution_count": null,
   "metadata": {},
   "outputs": [],
   "source": [
    "get_latlon(unlit, f.transform, inplace=True)"
   ]
  },
  {
   "cell_type": "code",
   "execution_count": 4,
   "metadata": {},
   "outputs": [
    {
     "name": "stderr",
     "output_type": "stream",
     "text": [
      "[cellevents:INFO]:starting (cellevents.py:43, time=Dec-24 12:04)\n"
     ]
    },
    {
     "name": "stdout",
     "output_type": "stream",
     "text": [
      "time: 1.71 s\n"
     ]
    }
   ],
   "source": [
    "# read data\n",
    "df = pd.read_excel(\"clusters.xlsx\")\n",
    "df.geometry = df.geometry.apply(wkt.loads)\n",
    "df.centroid = df.centroid.apply(wkt.loads)\n",
    "gdf = gpd.GeoDataFrame(df)"
   ]
  },
  {
   "cell_type": "markdown",
   "metadata": {},
   "source": [
    "# add data"
   ]
  },
  {
   "cell_type": "code",
   "execution_count": 8,
   "metadata": {},
   "outputs": [
    {
     "name": "stderr",
     "output_type": "stream",
     "text": [
      "[cellevents:INFO]:starting (cellevents.py:43, time=Dec-24 12:06)\n"
     ]
    },
    {
     "name": "stdout",
     "output_type": "stream",
     "text": [
      "time: 1.44 s\n"
     ]
    }
   ],
   "source": [
    "# ongrid\n",
    "grid = gpd.read_file(r\"../nigeria-electricity-transmission-network\\Nigeria Electricity Transmission Network.shp\")\n",
    "ongrid = gpd.GeoSeries(grid.buffer(15*km2deg)).unary_union\n",
    "df[\"ongrid\"] = gdf.intersects(ongrid)\n",
    "gpd.GeoSeries(ongrid).to_file(\"ongrid15.geojson\", driver=\"GeoJSON\", encoding=\"utf8\")"
   ]
  },
  {
   "cell_type": "code",
   "execution_count": 258,
   "metadata": {},
   "outputs": [
    {
     "name": "stderr",
     "output_type": "stream",
     "text": [
      "[cellevents:INFO]:starting (cellevents.py:43, time=Dec-23 17:39)\n"
     ]
    },
    {
     "name": "stdout",
     "output_type": "stream",
     "text": [
      "time: 5.12 s\n"
     ]
    }
   ],
   "source": [
    "# area\n",
    "areafile = f\"{repo}/task2_estimate_energy_demand/nga_adm_osgof_20190417_SHP/nga_admbnda_adm2_osgof_20190417.shp\"\n",
    "area = gpd.read_file(areafile)[['ADM1_EN','ADM2_EN','geometry']]\n",
    "adm1s = []\n",
    "adm2s = []\n",
    "for point in df.centroid:\n",
    "    for adm1,adm2,po in area.values:\n",
    "        if po.contains(point)==True:\n",
    "            adm1s.append(adm1)\n",
    "            adm2s.append(adm2)\n",
    "            break\n",
    "    else:\n",
    "        adm1s.append(\"\")\n",
    "        adm2s.append(\"\")\n",
    "df[\"adm1\"] = adm1s\n",
    "df[\"adm2\"] = adm2s"
   ]
  },
  {
   "cell_type": "markdown",
   "metadata": {},
   "source": [
    "# score"
   ]
  },
  {
   "cell_type": "code",
   "execution_count": 232,
   "metadata": {},
   "outputs": [
    {
     "name": "stderr",
     "output_type": "stream",
     "text": [
      "[cellevents:INFO]:starting (cellevents.py:43, time=Dec-23 17:21)\n"
     ]
    },
    {
     "name": "stdout",
     "output_type": "stream",
     "text": [
      "time: 25 ms\n"
     ]
    }
   ],
   "source": [
    "# set score\n",
    "df[\"score\"] = df.density\n",
    "df.loc[df.ongrid, \"score\"] = 0\n",
    "##### add other criteria"
   ]
  },
  {
   "cell_type": "code",
   "execution_count": 233,
   "metadata": {
    "collapsed": true
   },
   "outputs": [
    {
     "name": "stderr",
     "output_type": "stream",
     "text": [
      "[cellevents:INFO]:starting (cellevents.py:43, time=Dec-23 17:21)\n"
     ]
    },
    {
     "data": {
      "text/html": [
       "<div>\n",
       "<style scoped>\n",
       "    .dataframe tbody tr th:only-of-type {\n",
       "        vertical-align: middle;\n",
       "    }\n",
       "\n",
       "    .dataframe tbody tr th {\n",
       "        vertical-align: top;\n",
       "    }\n",
       "\n",
       "    .dataframe thead th {\n",
       "        text-align: right;\n",
       "    }\n",
       "</style>\n",
       "<table border=\"1\" class=\"dataframe\">\n",
       "  <thead>\n",
       "    <tr style=\"text-align: right;\">\n",
       "      <th></th>\n",
       "      <th>label</th>\n",
       "      <th>population</th>\n",
       "      <th>area</th>\n",
       "      <th>density</th>\n",
       "      <th>address</th>\n",
       "      <th>address0</th>\n",
       "      <th>geolocator</th>\n",
       "      <th>label_out</th>\n",
       "      <th>geometry</th>\n",
       "      <th>centroid</th>\n",
       "      <th>ongrid</th>\n",
       "      <th>adm1</th>\n",
       "      <th>adm2</th>\n",
       "      <th>score</th>\n",
       "    </tr>\n",
       "  </thead>\n",
       "  <tbody>\n",
       "    <tr>\n",
       "      <th>591</th>\n",
       "      <td>591</td>\n",
       "      <td>4941</td>\n",
       "      <td>0</td>\n",
       "      <td>19841</td>\n",
       "      <td>Koya, Kano, Nigeria</td>\n",
       "      <td>Koya</td>\n",
       "      <td>Photon</td>\n",
       "      <td>591-Koya=4,941</td>\n",
       "      <td>POLYGON ((7.95250 11.87750, 7.95250 11.88000, ...</td>\n",
       "      <td>POINT (7.954490723470158 11.88046311671374)</td>\n",
       "      <td>False</td>\n",
       "      <td>Kano</td>\n",
       "      <td>Gwarzo</td>\n",
       "      <td>19841</td>\n",
       "    </tr>\n",
       "    <tr>\n",
       "      <th>239</th>\n",
       "      <td>239</td>\n",
       "      <td>4222</td>\n",
       "      <td>0</td>\n",
       "      <td>17878</td>\n",
       "      <td>Dawa, Guri, Jigawa, Nigeria</td>\n",
       "      <td>Dawa</td>\n",
       "      <td>Nominatim</td>\n",
       "      <td>239-Dawa=4,222</td>\n",
       "      <td>POLYGON ((10.41000 12.67167, 10.40917 12.67250...</td>\n",
       "      <td>POINT (10.41210645432109 12.67365755797058)</td>\n",
       "      <td>False</td>\n",
       "      <td>Jigawa</td>\n",
       "      <td>Guri</td>\n",
       "      <td>17878</td>\n",
       "    </tr>\n",
       "    <tr>\n",
       "      <th>647</th>\n",
       "      <td>647</td>\n",
       "      <td>3769</td>\n",
       "      <td>0</td>\n",
       "      <td>17556</td>\n",
       "      <td>Kamagata Health Post, Dosan, Kano, Nigeria</td>\n",
       "      <td>Kamagata Health Post</td>\n",
       "      <td>Photon</td>\n",
       "      <td>647-Kamagata Health Post=3,769</td>\n",
       "      <td>POLYGON ((8.76167 11.77167, 8.76083 11.77250, ...</td>\n",
       "      <td>POINT (8.762578104477551 11.77406265417837)</td>\n",
       "      <td>False</td>\n",
       "      <td>Kano</td>\n",
       "      <td>Dawakin Kudu</td>\n",
       "      <td>17556</td>\n",
       "    </tr>\n",
       "    <tr>\n",
       "      <th>245</th>\n",
       "      <td>245</td>\n",
       "      <td>9434</td>\n",
       "      <td>0</td>\n",
       "      <td>16520</td>\n",
       "      <td>Marma, Jigawa, Nigeria</td>\n",
       "      <td>Marma</td>\n",
       "      <td>Photon</td>\n",
       "      <td>245-Marma=9,434</td>\n",
       "      <td>POLYGON ((10.33917 12.65333, 10.33833 12.65500...</td>\n",
       "      <td>POINT (10.34233549943618 12.65689708045506)</td>\n",
       "      <td>False</td>\n",
       "      <td>Jigawa</td>\n",
       "      <td>Kiri Kasamma</td>\n",
       "      <td>16520</td>\n",
       "    </tr>\n",
       "    <tr>\n",
       "      <th>430</th>\n",
       "      <td>430</td>\n",
       "      <td>4638</td>\n",
       "      <td>0</td>\n",
       "      <td>16367</td>\n",
       "      <td>Jirgabawa Health Post, Kunya to Niger Border R...</td>\n",
       "      <td>Jirgabawa Health Post</td>\n",
       "      <td>Photon</td>\n",
       "      <td>430-Jirgabawa Health Post=4,638</td>\n",
       "      <td>POLYGON ((8.54333 12.19750, 8.54250 12.19833, ...</td>\n",
       "      <td>POINT (8.544662678767171 12.20011920008523)</td>\n",
       "      <td>False</td>\n",
       "      <td>Kano</td>\n",
       "      <td>Minjibir</td>\n",
       "      <td>16367</td>\n",
       "    </tr>\n",
       "    <tr>\n",
       "      <th>724</th>\n",
       "      <td>724</td>\n",
       "      <td>6349</td>\n",
       "      <td>0</td>\n",
       "      <td>15900</td>\n",
       "      <td>Hamdullahi, Kano, Nigeria</td>\n",
       "      <td>Hamdullahi</td>\n",
       "      <td>Photon</td>\n",
       "      <td>724-Hamdullahi=6,349</td>\n",
       "      <td>POLYGON ((9.06083 11.62667, 9.05750 11.62750, ...</td>\n",
       "      <td>POINT (9.059060584345076 11.62959106384988)</td>\n",
       "      <td>False</td>\n",
       "      <td>Kano</td>\n",
       "      <td>Albasu</td>\n",
       "      <td>15900</td>\n",
       "    </tr>\n",
       "    <tr>\n",
       "      <th>770</th>\n",
       "      <td>770</td>\n",
       "      <td>5381</td>\n",
       "      <td>0</td>\n",
       "      <td>15864</td>\n",
       "      <td>Tukur, Jigawa, Nigeria</td>\n",
       "      <td>Tukur</td>\n",
       "      <td>Photon</td>\n",
       "      <td>770-Tukur=5,381</td>\n",
       "      <td>POLYGON ((9.76583 11.53750, 9.76500 11.53833, ...</td>\n",
       "      <td>POINT (9.767447892100485 11.54017376622942)</td>\n",
       "      <td>False</td>\n",
       "      <td>Jigawa</td>\n",
       "      <td>Buji</td>\n",
       "      <td>15864</td>\n",
       "    </tr>\n",
       "    <tr>\n",
       "      <th>314</th>\n",
       "      <td>314</td>\n",
       "      <td>4268</td>\n",
       "      <td>0</td>\n",
       "      <td>15778</td>\n",
       "      <td>Tsaraka Health Post, Gwarabjawa, Kano, Nigeria</td>\n",
       "      <td>Tsaraka Health Post</td>\n",
       "      <td>Photon</td>\n",
       "      <td>314-Tsaraka Health Post=4,268</td>\n",
       "      <td>POLYGON ((8.60667 12.43750, 8.60500 12.43833, ...</td>\n",
       "      <td>POINT (8.606187480106891 12.44085431816539)</td>\n",
       "      <td>False</td>\n",
       "      <td>Kano</td>\n",
       "      <td>Dambatta</td>\n",
       "      <td>15778</td>\n",
       "    </tr>\n",
       "    <tr>\n",
       "      <th>850</th>\n",
       "      <td>850</td>\n",
       "      <td>5235</td>\n",
       "      <td>0</td>\n",
       "      <td>15631</td>\n",
       "      <td>Maruta, Gwaram, Jigawa, Nigeria</td>\n",
       "      <td>Maruta</td>\n",
       "      <td>Nominatim</td>\n",
       "      <td>850-Maruta=5,235</td>\n",
       "      <td>POLYGON ((9.86333 11.37417, 9.86250 11.37500, ...</td>\n",
       "      <td>POINT (9.862801393489818 11.37833348910203)</td>\n",
       "      <td>False</td>\n",
       "      <td>Jigawa</td>\n",
       "      <td>Gwaram</td>\n",
       "      <td>15631</td>\n",
       "    </tr>\n",
       "    <tr>\n",
       "      <th>721</th>\n",
       "      <td>721</td>\n",
       "      <td>7968</td>\n",
       "      <td>0</td>\n",
       "      <td>15211</td>\n",
       "      <td>Lafara, Jigawa, Nigeria</td>\n",
       "      <td>Lafara</td>\n",
       "      <td>Photon</td>\n",
       "      <td>721-Lafara=7,968</td>\n",
       "      <td>POLYGON ((9.62917 11.63250, 9.62583 11.63417, ...</td>\n",
       "      <td>POINT (9.630446835888513 11.63561609676373)</td>\n",
       "      <td>False</td>\n",
       "      <td>Jigawa</td>\n",
       "      <td>Birni Kudu</td>\n",
       "      <td>15211</td>\n",
       "    </tr>\n",
       "  </tbody>\n",
       "</table>\n",
       "</div>"
      ],
      "text/plain": [
       "     label  population  area  density  \\\n",
       "591    591        4941     0    19841   \n",
       "239    239        4222     0    17878   \n",
       "647    647        3769     0    17556   \n",
       "245    245        9434     0    16520   \n",
       "430    430        4638     0    16367   \n",
       "724    724        6349     0    15900   \n",
       "770    770        5381     0    15864   \n",
       "314    314        4268     0    15778   \n",
       "850    850        5235     0    15631   \n",
       "721    721        7968     0    15211   \n",
       "\n",
       "                                               address               address0  \\\n",
       "591                                Koya, Kano, Nigeria                   Koya   \n",
       "239                        Dawa, Guri, Jigawa, Nigeria                   Dawa   \n",
       "647         Kamagata Health Post, Dosan, Kano, Nigeria   Kamagata Health Post   \n",
       "245                             Marma, Jigawa, Nigeria                  Marma   \n",
       "430  Jirgabawa Health Post, Kunya to Niger Border R...  Jirgabawa Health Post   \n",
       "724                          Hamdullahi, Kano, Nigeria             Hamdullahi   \n",
       "770                             Tukur, Jigawa, Nigeria                  Tukur   \n",
       "314     Tsaraka Health Post, Gwarabjawa, Kano, Nigeria    Tsaraka Health Post   \n",
       "850                    Maruta, Gwaram, Jigawa, Nigeria                 Maruta   \n",
       "721                            Lafara, Jigawa, Nigeria                 Lafara   \n",
       "\n",
       "    geolocator                        label_out  \\\n",
       "591     Photon                   591-Koya=4,941   \n",
       "239  Nominatim                   239-Dawa=4,222   \n",
       "647     Photon   647-Kamagata Health Post=3,769   \n",
       "245     Photon                  245-Marma=9,434   \n",
       "430     Photon  430-Jirgabawa Health Post=4,638   \n",
       "724     Photon             724-Hamdullahi=6,349   \n",
       "770     Photon                  770-Tukur=5,381   \n",
       "314     Photon    314-Tsaraka Health Post=4,268   \n",
       "850  Nominatim                 850-Maruta=5,235   \n",
       "721     Photon                 721-Lafara=7,968   \n",
       "\n",
       "                                              geometry  \\\n",
       "591  POLYGON ((7.95250 11.87750, 7.95250 11.88000, ...   \n",
       "239  POLYGON ((10.41000 12.67167, 10.40917 12.67250...   \n",
       "647  POLYGON ((8.76167 11.77167, 8.76083 11.77250, ...   \n",
       "245  POLYGON ((10.33917 12.65333, 10.33833 12.65500...   \n",
       "430  POLYGON ((8.54333 12.19750, 8.54250 12.19833, ...   \n",
       "724  POLYGON ((9.06083 11.62667, 9.05750 11.62750, ...   \n",
       "770  POLYGON ((9.76583 11.53750, 9.76500 11.53833, ...   \n",
       "314  POLYGON ((8.60667 12.43750, 8.60500 12.43833, ...   \n",
       "850  POLYGON ((9.86333 11.37417, 9.86250 11.37500, ...   \n",
       "721  POLYGON ((9.62917 11.63250, 9.62583 11.63417, ...   \n",
       "\n",
       "                                        centroid  ongrid    adm1  \\\n",
       "591  POINT (7.954490723470158 11.88046311671374)   False    Kano   \n",
       "239  POINT (10.41210645432109 12.67365755797058)   False  Jigawa   \n",
       "647  POINT (8.762578104477551 11.77406265417837)   False    Kano   \n",
       "245  POINT (10.34233549943618 12.65689708045506)   False  Jigawa   \n",
       "430  POINT (8.544662678767171 12.20011920008523)   False    Kano   \n",
       "724  POINT (9.059060584345076 11.62959106384988)   False    Kano   \n",
       "770  POINT (9.767447892100485 11.54017376622942)   False  Jigawa   \n",
       "314  POINT (8.606187480106891 12.44085431816539)   False    Kano   \n",
       "850  POINT (9.862801393489818 11.37833348910203)   False  Jigawa   \n",
       "721  POINT (9.630446835888513 11.63561609676373)   False  Jigawa   \n",
       "\n",
       "             adm2  score  \n",
       "591        Gwarzo  19841  \n",
       "239          Guri  17878  \n",
       "647  Dawakin Kudu  17556  \n",
       "245  Kiri Kasamma  16520  \n",
       "430      Minjibir  16367  \n",
       "724        Albasu  15900  \n",
       "770          Buji  15864  \n",
       "314      Dambatta  15778  \n",
       "850        Gwaram  15631  \n",
       "721    Birni Kudu  15211  "
      ]
     },
     "execution_count": 233,
     "metadata": {},
     "output_type": "execute_result"
    },
    {
     "name": "stdout",
     "output_type": "stream",
     "text": [
      "time: 1.39 s\n"
     ]
    }
   ],
   "source": [
    "# output\n",
    "df = df.sort_values(\"score\", ascending=False)\n",
    "df.to_excel(\"clusters.xlsx\", index=False)\n",
    "df.head(10)"
   ]
  }
 ],
 "metadata": {
  "jupytext": {
   "text_representation": {
    "extension": ".py",
    "format_name": "percent",
    "format_version": "1.2",
    "jupytext_version": "1.2.1"
   }
  },
  "kernelspec": {
   "display_name": "Python 3",
   "language": "python",
   "name": "python3"
  },
  "language_info": {
   "codemirror_mode": {
    "name": "ipython",
    "version": 3
   },
   "file_extension": ".py",
   "mimetype": "text/x-python",
   "name": "python",
   "nbconvert_exporter": "python",
   "pygments_lexer": "ipython3",
   "version": "3.7.3"
  }
 },
 "nbformat": 4,
 "nbformat_minor": 2
}
