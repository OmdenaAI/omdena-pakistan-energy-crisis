{
 "cells": [
  {
   "cell_type": "code",
   "execution_count": 1,
   "metadata": {},
   "outputs": [
    {
     "data": {
      "text/html": [
       "<style>audio{display:none}</style>"
      ],
      "text/plain": [
       "<IPython.core.display.HTML object>"
      ]
     },
     "metadata": {},
     "output_type": "display_data"
    }
   ],
   "source": [
    "from marley.utils.ipstartup import *\n",
    "from marley import tif, config as c\n",
    "import rasterio\n",
    "from rasterstats import zonal_stats\n",
    "import geopandas as gpd\n",
    "os.chdir(c.localpath)"
   ]
  },
  {
   "cell_type": "markdown",
   "metadata": {},
   "source": [
    "# other cropped areas"
   ]
  },
  {
   "cell_type": "code",
   "execution_count": 4,
   "metadata": {},
   "outputs": [
    {
     "name": "stderr",
     "output_type": "stream",
     "text": [
      "[cellevents:INFO]:starting (cellevents.py:43, time=Dec-14 18:29)\n"
     ]
    },
    {
     "data": {
      "text/plain": [
       "'**** with lights **********'"
      ]
     },
     "metadata": {},
     "output_type": "display_data"
    },
    {
     "data": {
      "text/plain": [
       "[{'min': 0.350009948015213,\n",
       "  'max': 3.699918746948242,\n",
       "  'mean': 1.6705363412921348,\n",
       "  'count': 2047}]"
      ]
     },
     "metadata": {},
     "output_type": "display_data"
    },
    {
     "data": {
      "text/plain": [
       "'**** without lights **********'"
      ]
     },
     "metadata": {},
     "output_type": "display_data"
    },
    {
     "data": {
      "text/plain": [
       "[{'min': 0.12100640684366226,\n",
       "  'max': 0.3949834406375885,\n",
       "  'mean': 0.21725114297368386,\n",
       "  'count': 574}]"
      ]
     },
     "metadata": {},
     "output_type": "display_data"
    },
    {
     "data": {
      "text/plain": [
       "[{'min': 0.2040025144815445,\n",
       "  'max': 0.5649789571762085,\n",
       "  'mean': 0.32037184926008017,\n",
       "  'count': 267}]"
      ]
     },
     "metadata": {},
     "output_type": "display_data"
    },
    {
     "data": {
      "text/plain": [
       "[{'min': 0.19199931621551514,\n",
       "  'max': 0.2849973738193512,\n",
       "  'mean': 0.24325728684328915,\n",
       "  'count': 89}]"
      ]
     },
     "metadata": {},
     "output_type": "display_data"
    },
    {
     "name": "stdout",
     "output_type": "stream",
     "text": [
      "time: 535 ms\n"
     ]
    }
   ],
   "source": [
    "lightsfile = r\"grid3\\NOAA_VIIRS_DNB_MONTHLY_V1_VCMCFG_median_avg_rad.tif\"\n",
    "d(\"**** with lights **********\")\n",
    "d(zonal_stats(\"vectors/examples/ajaokuta.gpkg\", lightsfile))\n",
    "\n",
    "d(\"**** without lights **********\")\n",
    "d(zonal_stats(\"vectors/examples/omuo.gpkg\", lightsfile))\n",
    "d(zonal_stats(\"vectors/examples/agbaja.gpkg\", lightsfile))\n",
    "d(zonal_stats(\"vectors/examples/agbede all.kml\", lightsfile))"
   ]
  },
  {
   "cell_type": "code",
   "execution_count": 7,
   "metadata": {},
   "outputs": [
    {
     "name": "stderr",
     "output_type": "stream",
     "text": [
      "[cellevents:INFO]:starting (cellevents.py:43, time=Dec-14 18:30)\n"
     ]
    },
    {
     "data": {
      "text/plain": [
       "[{'sum': 396.9110016822815}]"
      ]
     },
     "metadata": {},
     "output_type": "display_data"
    },
    {
     "data": {
      "text/plain": [
       "[{'sum': 12652.824938297272}]"
      ]
     },
     "execution_count": 7,
     "metadata": {},
     "output_type": "execute_result"
    },
    {
     "name": "stdout",
     "output_type": "stream",
     "text": [
      "time: 2.51 s\n"
     ]
    }
   ],
   "source": [
    "popfile = r\"grid3/GRID3_NGA_PopEst_v1_1_mean_float.tif\"\n",
    "data = rasterio.open(popfile).read()[0]\n",
    "data[data<0] = 0\n",
    "data[np.isnan(data)] = 0\n",
    "d(zonal_stats(\"vectors/examples/agbede all.kml\", data, affine=rasterio.open(popfile).transform, stats=[\"sum\"]))\n",
    "zonal_stats(\"vectors/examples/richifa.kml\", data, affine=rasterio.open(popfile).transform, stats=[\"sum\"])"
   ]
  },
  {
   "cell_type": "code",
   "execution_count": 8,
   "metadata": {},
   "outputs": [
    {
     "name": "stderr",
     "output_type": "stream",
     "text": [
      "[cellevents:INFO]:starting (cellevents.py:43, time=Dec-14 18:30)\n"
     ]
    },
    {
     "data": {
      "text/plain": [
       "[{'sum': 1274.3035315627521}]"
      ]
     },
     "metadata": {},
     "output_type": "display_data"
    },
    {
     "data": {
      "text/plain": [
       "[{'sum': 14779.40737784428}]"
      ]
     },
     "execution_count": 8,
     "metadata": {},
     "output_type": "execute_result"
    },
    {
     "name": "stdout",
     "output_type": "stream",
     "text": [
      "time: 631 ms\n"
     ]
    }
   ],
   "source": [
    "popfile = r\"dmsp/GRID3_NGA_PopEst_v1_1_mean_float.tif\"\n",
    "data = rasterio.open(popfile).read()[0]\n",
    "d(zonal_stats(\"vectors/examples/agbede all.kml\", data, affine=rasterio.open(popfile).transform, stats=[\"sum\"]))\n",
    "zonal_stats(\"vectors/examples/richifa.kml\", data, affine=rasterio.open(popfile).transform, stats=[\"sum\"])"
   ]
  },
  {
   "cell_type": "markdown",
   "metadata": {},
   "source": [
    "# village agbede - apply KML vector to raster"
   ]
  },
  {
   "cell_type": "markdown",
   "metadata": {},
   "source": [
    "* cut the shape files in google maps pro for 4 areas around agbede; one super-area around the whole settlement; and one round remote village south west\n",
    "* rasterstats to get data for those areas from the population raster\n",
    "* manually estimated number of houses\n",
    "* calculated area km2 and density pop/km2\n",
    "\n",
    "check:\n",
    "* scale is 1 pixel = 100m\n",
    "* agbede north is about 200m*50m = .2 * .05=.01km2 => looks OK\n",
    "\n",
    "results:\n",
    "* at high resolution it is not accurate e.g. the forest has more people than the village\n",
    "* that is only 2 pixels for agbede north with 30 houses\n",
    "* as you zoom out then you get 163 people in 100 houses. still a bit low.\n",
    "* looks like it could be improved by increasing the weight given to settlements"
   ]
  },
  {
   "cell_type": "code",
   "execution_count": 9,
   "metadata": {},
   "outputs": [
    {
     "name": "stderr",
     "output_type": "stream",
     "text": [
      "[cellevents:INFO]:starting (cellevents.py:43, time=Dec-14 18:31)\n"
     ]
    },
    {
     "name": "stdout",
     "output_type": "stream",
     "text": [
      "time: 0 ns\n"
     ]
    }
   ],
   "source": [
    "# compare count of houses to worldpop\n",
    "shapes = [\"vectors/examples/agbede north.kml\",\\\n",
    "          \"vectors/examples/agbede north east.kml\",\\\n",
    "          \"vectors/examples/agbede south.kml\",\\\n",
    "          \"vectors/examples/agbede south east.kml\",\n",
    "          \"vectors/examples/agbede all.kml\",\n",
    "          \"vectors/examples/unnamed swest agbedde.kml\"]"
   ]
  },
  {
   "cell_type": "code",
   "execution_count": 10,
   "metadata": {},
   "outputs": [
    {
     "name": "stderr",
     "output_type": "stream",
     "text": [
      "[cellevents:INFO]:starting (cellevents.py:43, time=Dec-14 18:31)\n"
     ]
    },
    {
     "name": "stdout",
     "output_type": "stream",
     "text": [
      "time: 10.2 ms\n"
     ]
    }
   ],
   "source": [
    "def getstats(shapes, tifname):\n",
    "    # get as array to allow replacement of -3.4e-34\n",
    "    data = rasterio.open(tifname).read()[0]\n",
    "    data[data<0] = 0\n",
    "    data[np.isnan(data)] = 0\n",
    "    d(f\"total population={data.sum()}\")\n",
    "    \n",
    "    # create df of shapes\n",
    "    allstats = []\n",
    "    for shape in shapes:\n",
    "        row = zonal_stats(shape, data, affine=rasterio.open(tifname).meta[\"transform\"])\n",
    "        # list of 1 polygon\n",
    "        row[0].update(geometry = gpd.read_file(shape).geometry.values)\n",
    "        allstats.extend(row)\n",
    "    df = pd.DataFrame.from_records(allstats)\n",
    "    \n",
    "    # format df\n",
    "    df[\"filename\"] = shapes\n",
    "    df[\"sum\"] = df[\"mean\"]*df[\"count\"]\n",
    "    df[\"houses\"] = [30,0,0,70, 100, 70]\n",
    "    df[\"area\"] = df.geometry.apply(lambda x: x.area.sum())*10000\n",
    "    df[\"density\"] = df[\"sum\"]/df.area\n",
    "    return df.round(3).drop(columns=[\"geometry\"])"
   ]
  },
  {
   "cell_type": "code",
   "execution_count": 11,
   "metadata": {
    "scrolled": true
   },
   "outputs": [
    {
     "name": "stderr",
     "output_type": "stream",
     "text": [
      "[cellevents:INFO]:starting (cellevents.py:43, time=Dec-14 18:31)\n"
     ]
    },
    {
     "data": {
      "text/plain": [
       "'total population=209758128.0'"
      ]
     },
     "metadata": {},
     "output_type": "display_data"
    },
    {
     "data": {
      "text/html": [
       "<div>\n",
       "<style scoped>\n",
       "    .dataframe tbody tr th:only-of-type {\n",
       "        vertical-align: middle;\n",
       "    }\n",
       "\n",
       "    .dataframe tbody tr th {\n",
       "        vertical-align: top;\n",
       "    }\n",
       "\n",
       "    .dataframe thead th {\n",
       "        text-align: right;\n",
       "    }\n",
       "</style>\n",
       "<table border=\"1\" class=\"dataframe\">\n",
       "  <thead>\n",
       "    <tr style=\"text-align: right;\">\n",
       "      <th></th>\n",
       "      <th>count</th>\n",
       "      <th>max</th>\n",
       "      <th>mean</th>\n",
       "      <th>min</th>\n",
       "      <th>filename</th>\n",
       "      <th>sum</th>\n",
       "      <th>houses</th>\n",
       "      <th>area</th>\n",
       "      <th>density</th>\n",
       "    </tr>\n",
       "  </thead>\n",
       "  <tbody>\n",
       "    <tr>\n",
       "      <th>0</th>\n",
       "      <td>2</td>\n",
       "      <td>1.837</td>\n",
       "      <td>1.829</td>\n",
       "      <td>1.821</td>\n",
       "      <td>vectors/examples/agbede north.kml</td>\n",
       "      <td>3.658</td>\n",
       "      <td>30</td>\n",
       "      <td>0.011</td>\n",
       "      <td>326.203</td>\n",
       "    </tr>\n",
       "    <tr>\n",
       "      <th>1</th>\n",
       "      <td>10</td>\n",
       "      <td>2.085</td>\n",
       "      <td>2.033</td>\n",
       "      <td>1.896</td>\n",
       "      <td>vectors/examples/agbede north east.kml</td>\n",
       "      <td>20.326</td>\n",
       "      <td>0</td>\n",
       "      <td>0.058</td>\n",
       "      <td>350.756</td>\n",
       "    </tr>\n",
       "    <tr>\n",
       "      <th>2</th>\n",
       "      <td>2</td>\n",
       "      <td>1.845</td>\n",
       "      <td>1.817</td>\n",
       "      <td>1.789</td>\n",
       "      <td>vectors/examples/agbede south.kml</td>\n",
       "      <td>3.634</td>\n",
       "      <td>0</td>\n",
       "      <td>0.017</td>\n",
       "      <td>208.548</td>\n",
       "    </tr>\n",
       "    <tr>\n",
       "      <th>3</th>\n",
       "      <td>7</td>\n",
       "      <td>2.051</td>\n",
       "      <td>2.035</td>\n",
       "      <td>2.010</td>\n",
       "      <td>vectors/examples/agbede south east.kml</td>\n",
       "      <td>14.242</td>\n",
       "      <td>70</td>\n",
       "      <td>0.047</td>\n",
       "      <td>306.016</td>\n",
       "    </tr>\n",
       "    <tr>\n",
       "      <th>4</th>\n",
       "      <td>89</td>\n",
       "      <td>2.085</td>\n",
       "      <td>1.839</td>\n",
       "      <td>1.335</td>\n",
       "      <td>vectors/examples/agbede all.kml</td>\n",
       "      <td>163.691</td>\n",
       "      <td>100</td>\n",
       "      <td>0.614</td>\n",
       "      <td>266.697</td>\n",
       "    </tr>\n",
       "    <tr>\n",
       "      <th>5</th>\n",
       "      <td>8</td>\n",
       "      <td>0.259</td>\n",
       "      <td>0.254</td>\n",
       "      <td>0.246</td>\n",
       "      <td>vectors/examples/unnamed swest agbedde.kml</td>\n",
       "      <td>2.030</td>\n",
       "      <td>70</td>\n",
       "      <td>0.062</td>\n",
       "      <td>32.831</td>\n",
       "    </tr>\n",
       "  </tbody>\n",
       "</table>\n",
       "</div>"
      ],
      "text/plain": [
       "   count    max   mean    min                                    filename  \\\n",
       "0      2  1.837  1.829  1.821           vectors/examples/agbede north.kml   \n",
       "1     10  2.085  2.033  1.896      vectors/examples/agbede north east.kml   \n",
       "2      2  1.845  1.817  1.789           vectors/examples/agbede south.kml   \n",
       "3      7  2.051  2.035  2.010      vectors/examples/agbede south east.kml   \n",
       "4     89  2.085  1.839  1.335             vectors/examples/agbede all.kml   \n",
       "5      8  0.259  0.254  0.246  vectors/examples/unnamed swest agbedde.kml   \n",
       "\n",
       "       sum  houses   area  density  \n",
       "0    3.658      30  0.011  326.203  \n",
       "1   20.326       0  0.058  350.756  \n",
       "2    3.634       0  0.017  208.548  \n",
       "3   14.242      70  0.047  306.016  \n",
       "4  163.691     100  0.614  266.697  \n",
       "5    2.030      70  0.062   32.831  "
      ]
     },
     "execution_count": 11,
     "metadata": {},
     "output_type": "execute_result"
    },
    {
     "name": "stdout",
     "output_type": "stream",
     "text": [
      "time: 8.53 s\n"
     ]
    }
   ],
   "source": [
    "getstats(shapes, \"wpop/WorldPop_GP_100m_pop_median_population.tif\")"
   ]
  },
  {
   "cell_type": "code",
   "execution_count": 12,
   "metadata": {},
   "outputs": [
    {
     "name": "stderr",
     "output_type": "stream",
     "text": [
      "[cellevents:INFO]:starting (cellevents.py:43, time=Dec-14 18:31)\n"
     ]
    },
    {
     "data": {
      "text/plain": [
       "'total population=179876176.0'"
      ]
     },
     "metadata": {},
     "output_type": "display_data"
    },
    {
     "data": {
      "text/html": [
       "<div>\n",
       "<style scoped>\n",
       "    .dataframe tbody tr th:only-of-type {\n",
       "        vertical-align: middle;\n",
       "    }\n",
       "\n",
       "    .dataframe tbody tr th {\n",
       "        vertical-align: top;\n",
       "    }\n",
       "\n",
       "    .dataframe thead th {\n",
       "        text-align: right;\n",
       "    }\n",
       "</style>\n",
       "<table border=\"1\" class=\"dataframe\">\n",
       "  <thead>\n",
       "    <tr style=\"text-align: right;\">\n",
       "      <th></th>\n",
       "      <th>count</th>\n",
       "      <th>max</th>\n",
       "      <th>mean</th>\n",
       "      <th>min</th>\n",
       "      <th>filename</th>\n",
       "      <th>sum</th>\n",
       "      <th>houses</th>\n",
       "      <th>area</th>\n",
       "      <th>density</th>\n",
       "    </tr>\n",
       "  </thead>\n",
       "  <tbody>\n",
       "    <tr>\n",
       "      <th>0</th>\n",
       "      <td>2</td>\n",
       "      <td>35.124</td>\n",
       "      <td>24.659</td>\n",
       "      <td>14.194</td>\n",
       "      <td>vectors/examples/agbede north.kml</td>\n",
       "      <td>49.318</td>\n",
       "      <td>30</td>\n",
       "      <td>0.011</td>\n",
       "      <td>4398.301</td>\n",
       "    </tr>\n",
       "    <tr>\n",
       "      <th>1</th>\n",
       "      <td>10</td>\n",
       "      <td>11.175</td>\n",
       "      <td>1.433</td>\n",
       "      <td>0.000</td>\n",
       "      <td>vectors/examples/agbede north east.kml</td>\n",
       "      <td>14.332</td>\n",
       "      <td>0</td>\n",
       "      <td>0.058</td>\n",
       "      <td>247.315</td>\n",
       "    </tr>\n",
       "    <tr>\n",
       "      <th>2</th>\n",
       "      <td>2</td>\n",
       "      <td>23.006</td>\n",
       "      <td>16.586</td>\n",
       "      <td>10.165</td>\n",
       "      <td>vectors/examples/agbede south.kml</td>\n",
       "      <td>33.171</td>\n",
       "      <td>0</td>\n",
       "      <td>0.017</td>\n",
       "      <td>1903.559</td>\n",
       "    </tr>\n",
       "    <tr>\n",
       "      <th>3</th>\n",
       "      <td>7</td>\n",
       "      <td>54.212</td>\n",
       "      <td>26.604</td>\n",
       "      <td>2.648</td>\n",
       "      <td>vectors/examples/agbede south east.kml</td>\n",
       "      <td>186.226</td>\n",
       "      <td>70</td>\n",
       "      <td>0.047</td>\n",
       "      <td>4001.343</td>\n",
       "    </tr>\n",
       "    <tr>\n",
       "      <th>4</th>\n",
       "      <td>89</td>\n",
       "      <td>54.212</td>\n",
       "      <td>4.460</td>\n",
       "      <td>0.000</td>\n",
       "      <td>vectors/examples/agbede all.kml</td>\n",
       "      <td>396.911</td>\n",
       "      <td>100</td>\n",
       "      <td>0.614</td>\n",
       "      <td>646.678</td>\n",
       "    </tr>\n",
       "    <tr>\n",
       "      <th>5</th>\n",
       "      <td>8</td>\n",
       "      <td>61.856</td>\n",
       "      <td>21.025</td>\n",
       "      <td>0.000</td>\n",
       "      <td>vectors/examples/unnamed swest agbedde.kml</td>\n",
       "      <td>168.204</td>\n",
       "      <td>70</td>\n",
       "      <td>0.062</td>\n",
       "      <td>2720.216</td>\n",
       "    </tr>\n",
       "  </tbody>\n",
       "</table>\n",
       "</div>"
      ],
      "text/plain": [
       "   count     max    mean     min                                    filename  \\\n",
       "0      2  35.124  24.659  14.194           vectors/examples/agbede north.kml   \n",
       "1     10  11.175   1.433   0.000      vectors/examples/agbede north east.kml   \n",
       "2      2  23.006  16.586  10.165           vectors/examples/agbede south.kml   \n",
       "3      7  54.212  26.604   2.648      vectors/examples/agbede south east.kml   \n",
       "4     89  54.212   4.460   0.000             vectors/examples/agbede all.kml   \n",
       "5      8  61.856  21.025   0.000  vectors/examples/unnamed swest agbedde.kml   \n",
       "\n",
       "       sum  houses   area   density  \n",
       "0   49.318      30  0.011  4398.301  \n",
       "1   14.332       0  0.058   247.315  \n",
       "2   33.171       0  0.017  1903.559  \n",
       "3  186.226      70  0.047  4001.343  \n",
       "4  396.911     100  0.614   646.678  \n",
       "5  168.204      70  0.062  2720.216  "
      ]
     },
     "execution_count": 12,
     "metadata": {},
     "output_type": "execute_result"
    },
    {
     "name": "stdout",
     "output_type": "stream",
     "text": [
      "time: 2.43 s\n"
     ]
    }
   ],
   "source": [
    "getstats(shapes, r\"grid3/GRID3_NGA_PopEst_v1_1_mean_float.tif\")"
   ]
  }
 ],
 "metadata": {
  "jupytext": {
   "text_representation": {
    "extension": ".py",
    "format_name": "percent",
    "format_version": "1.2",
    "jupytext_version": "1.2.1"
   }
  },
  "kernelspec": {
   "display_name": "Python 3",
   "language": "python",
   "name": "python3"
  },
  "language_info": {
   "codemirror_mode": {
    "name": "ipython",
    "version": 3
   },
   "file_extension": ".py",
   "mimetype": "text/x-python",
   "name": "python",
   "nbconvert_exporter": "python",
   "pygments_lexer": "ipython3",
   "version": "3.7.3"
  }
 },
 "nbformat": 4,
 "nbformat_minor": 2
}
