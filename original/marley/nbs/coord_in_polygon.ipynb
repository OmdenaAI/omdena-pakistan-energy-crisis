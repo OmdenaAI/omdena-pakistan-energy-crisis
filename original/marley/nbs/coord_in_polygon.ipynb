{
 "cells": [
  {
   "cell_type": "code",
   "execution_count": 1,
   "metadata": {
    "ExecuteTime": {
     "end_time": "2019-12-18T04:26:47.299954Z",
     "start_time": "2019-12-18T04:26:46.524988Z"
    }
   },
   "outputs": [],
   "source": [
    "import gdrive\n",
    "#install googledrivedownloader if gdrive error\n",
    "import numpy as np\n",
    "import pandas as pd\n",
    "import shapely\n",
    "from shapely.geometry import shape,mapping, Point, Polygon, MultiPolygon\n",
    "shapely.speedups.enable()\n",
    "import geopandas\n",
    "from geopandas import GeoDataFrame"
   ]
  },
  {
   "cell_type": "code",
   "execution_count": 2,
   "metadata": {
    "ExecuteTime": {
     "end_time": "2019-12-18T04:26:47.305912Z",
     "start_time": "2019-12-18T04:26:47.300913Z"
    }
   },
   "outputs": [],
   "source": [
    "#download cluster file from gdrve https://drive.google.com/file/d/1KT0eZvx3ila1_H0W5rzEocY7UJJPwsIE/view?usp=sharing\n",
    "gdrive.download_drive(file_id='1TBqz1x1qQEZGazwOPu0BnLgoo_G4j736',\n",
    "                   dest_path = 'data/clusters_priority.xlsx')"
   ]
  },
  {
   "cell_type": "code",
   "execution_count": 3,
   "metadata": {
    "ExecuteTime": {
     "end_time": "2019-12-18T04:26:47.394252Z",
     "start_time": "2019-12-18T04:26:47.307910Z"
    }
   },
   "outputs": [],
   "source": [
    "#download LGA shape file from https://drive.google.com/file/d/1vq22_NO2yXB57MB4hUYcN4wXqFiygvqw/view?usp=sharing\n",
    "gdrive.download_drive(file_id = '1vq22_NO2yXB57MB4hUYcN4wXqFiygvqw',\n",
    "                     dest_path = 'data/nga_adm_osgof_20190417_shp.zip',\n",
    "                     unzip=True)"
   ]
  },
  {
   "cell_type": "code",
   "execution_count": 4,
   "metadata": {
    "ExecuteTime": {
     "end_time": "2019-12-18T04:26:47.699115Z",
     "start_time": "2019-12-18T04:26:47.397277Z"
    }
   },
   "outputs": [
    {
     "data": {
      "text/html": [
       "<div>\n",
       "<style scoped>\n",
       "    .dataframe tbody tr th:only-of-type {\n",
       "        vertical-align: middle;\n",
       "    }\n",
       "\n",
       "    .dataframe tbody tr th {\n",
       "        vertical-align: top;\n",
       "    }\n",
       "\n",
       "    .dataframe thead th {\n",
       "        text-align: right;\n",
       "    }\n",
       "</style>\n",
       "<table border=\"1\" class=\"dataframe\">\n",
       "  <thead>\n",
       "    <tr style=\"text-align: right;\">\n",
       "      <th></th>\n",
       "      <th>label</th>\n",
       "      <th>population</th>\n",
       "      <th>lat</th>\n",
       "      <th>lon</th>\n",
       "      <th>area</th>\n",
       "      <th>density</th>\n",
       "      <th>address0</th>\n",
       "      <th>geometry</th>\n",
       "      <th>ongrid</th>\n",
       "      <th>score</th>\n",
       "    </tr>\n",
       "  </thead>\n",
       "  <tbody>\n",
       "    <tr>\n",
       "      <th>1979</th>\n",
       "      <td>877</td>\n",
       "      <td>220979</td>\n",
       "      <td>11.707868</td>\n",
       "      <td>8.865077</td>\n",
       "      <td>694</td>\n",
       "      <td>318</td>\n",
       "      <td>Kafin Malamai</td>\n",
       "      <td>POINT (8.865076786724444 11.7078679976377)</td>\n",
       "      <td>False</td>\n",
       "      <td>318</td>\n",
       "    </tr>\n",
       "    <tr>\n",
       "      <th>1980</th>\n",
       "      <td>1901</td>\n",
       "      <td>4948</td>\n",
       "      <td>9.024628</td>\n",
       "      <td>9.485341</td>\n",
       "      <td>15</td>\n",
       "      <td>318</td>\n",
       "      <td>Pyapun</td>\n",
       "      <td>POINT (9.485341313668878 9.024628225491194)</td>\n",
       "      <td>False</td>\n",
       "      <td>318</td>\n",
       "    </tr>\n",
       "    <tr>\n",
       "      <th>1981</th>\n",
       "      <td>453</td>\n",
       "      <td>1914</td>\n",
       "      <td>12.472429</td>\n",
       "      <td>8.760248</td>\n",
       "      <td>6</td>\n",
       "      <td>315</td>\n",
       "      <td>Kaffi</td>\n",
       "      <td>POINT (8.760247598534551 12.47242872280043)</td>\n",
       "      <td>False</td>\n",
       "      <td>315</td>\n",
       "    </tr>\n",
       "    <tr>\n",
       "      <th>1982</th>\n",
       "      <td>1258</td>\n",
       "      <td>6005</td>\n",
       "      <td>11.232167</td>\n",
       "      <td>9.195339</td>\n",
       "      <td>19</td>\n",
       "      <td>309</td>\n",
       "      <td>Kafin Lemo</td>\n",
       "      <td>POINT (9.195338519402725 11.23216682302277)</td>\n",
       "      <td>False</td>\n",
       "      <td>309</td>\n",
       "    </tr>\n",
       "    <tr>\n",
       "      <th>1983</th>\n",
       "      <td>603</td>\n",
       "      <td>668</td>\n",
       "      <td>12.264122</td>\n",
       "      <td>7.931464</td>\n",
       "      <td>2</td>\n",
       "      <td>306</td>\n",
       "      <td>Yanganau</td>\n",
       "      <td>POINT (7.931463946786041 12.26412177383059)</td>\n",
       "      <td>False</td>\n",
       "      <td>306</td>\n",
       "    </tr>\n",
       "  </tbody>\n",
       "</table>\n",
       "</div>"
      ],
      "text/plain": [
       "      label  population        lat       lon  area  density       address0  \\\n",
       "1979    877      220979  11.707868  8.865077   694      318  Kafin Malamai   \n",
       "1980   1901        4948   9.024628  9.485341    15      318         Pyapun   \n",
       "1981    453        1914  12.472429  8.760248     6      315          Kaffi   \n",
       "1982   1258        6005  11.232167  9.195339    19      309     Kafin Lemo   \n",
       "1983    603         668  12.264122  7.931464     2      306       Yanganau   \n",
       "\n",
       "                                         geometry  ongrid  score  \n",
       "1979   POINT (8.865076786724444 11.7078679976377)   False    318  \n",
       "1980  POINT (9.485341313668878 9.024628225491194)   False    318  \n",
       "1981  POINT (8.760247598534551 12.47242872280043)   False    315  \n",
       "1982  POINT (9.195338519402725 11.23216682302277)   False    309  \n",
       "1983  POINT (7.931463946786041 12.26412177383059)   False    306  "
      ]
     },
     "execution_count": 4,
     "metadata": {},
     "output_type": "execute_result"
    }
   ],
   "source": [
    "clusters = pd.read_excel(\"data/clusters_priority.xlsx\")\n",
    "clusters.tail()"
   ]
  },
  {
   "cell_type": "code",
   "execution_count": 5,
   "metadata": {
    "ExecuteTime": {
     "end_time": "2019-12-18T04:26:47.722113Z",
     "start_time": "2019-12-18T04:26:47.701114Z"
    }
   },
   "outputs": [],
   "source": [
    "points = []\n",
    "for lat, lon in zip(clusters['lat'],clusters['lon']):\n",
    "    p = Point(lon,lat)\n",
    "    points.append(p)"
   ]
  },
  {
   "cell_type": "code",
   "execution_count": 6,
   "metadata": {
    "ExecuteTime": {
     "end_time": "2019-12-18T04:26:47.944183Z",
     "start_time": "2019-12-18T04:26:47.724101Z"
    }
   },
   "outputs": [
    {
     "data": {
      "text/html": [
       "<div>\n",
       "<style scoped>\n",
       "    .dataframe tbody tr th:only-of-type {\n",
       "        vertical-align: middle;\n",
       "    }\n",
       "\n",
       "    .dataframe tbody tr th {\n",
       "        vertical-align: top;\n",
       "    }\n",
       "\n",
       "    .dataframe thead th {\n",
       "        text-align: right;\n",
       "    }\n",
       "</style>\n",
       "<table border=\"1\" class=\"dataframe\">\n",
       "  <thead>\n",
       "    <tr style=\"text-align: right;\">\n",
       "      <th></th>\n",
       "      <th>ADM1_EN</th>\n",
       "      <th>ADM2_EN</th>\n",
       "      <th>geometry</th>\n",
       "    </tr>\n",
       "  </thead>\n",
       "  <tbody>\n",
       "    <tr>\n",
       "      <th>0</th>\n",
       "      <td>Abia</td>\n",
       "      <td>Aba North</td>\n",
       "      <td>POLYGON ((7.40111 5.08195, 7.40013 5.08237, 7....</td>\n",
       "    </tr>\n",
       "    <tr>\n",
       "      <th>1</th>\n",
       "      <td>Abia</td>\n",
       "      <td>Aba South</td>\n",
       "      <td>POLYGON ((7.38749 5.08275, 7.38632 5.08236, 7....</td>\n",
       "    </tr>\n",
       "    <tr>\n",
       "      <th>2</th>\n",
       "      <td>Borno</td>\n",
       "      <td>Abadam</td>\n",
       "      <td>POLYGON ((13.83477 13.42336, 13.81909 13.42175...</td>\n",
       "    </tr>\n",
       "    <tr>\n",
       "      <th>3</th>\n",
       "      <td>Federal Capital Territory</td>\n",
       "      <td>Abaji</td>\n",
       "      <td>POLYGON ((7.04587 9.23050, 7.02654 9.22216, 7....</td>\n",
       "    </tr>\n",
       "    <tr>\n",
       "      <th>4</th>\n",
       "      <td>Akwa Ibom</td>\n",
       "      <td>Abak</td>\n",
       "      <td>POLYGON ((7.81124 5.09453, 7.81233 5.09367, 7....</td>\n",
       "    </tr>\n",
       "    <tr>\n",
       "      <th>...</th>\n",
       "      <td>...</td>\n",
       "      <td>...</td>\n",
       "      <td>...</td>\n",
       "    </tr>\n",
       "    <tr>\n",
       "      <th>769</th>\n",
       "      <td>Kaduna</td>\n",
       "      <td>Zango-Kataf</td>\n",
       "      <td>POLYGON ((8.51617 9.73717, 8.51729 9.73228, 8....</td>\n",
       "    </tr>\n",
       "    <tr>\n",
       "      <th>770</th>\n",
       "      <td>Kaduna</td>\n",
       "      <td>Zaria</td>\n",
       "      <td>POLYGON ((7.77154 11.12362, 7.77156 11.11693, ...</td>\n",
       "    </tr>\n",
       "    <tr>\n",
       "      <th>771</th>\n",
       "      <td>Taraba</td>\n",
       "      <td>Zing</td>\n",
       "      <td>POLYGON ((11.78946 8.64357, 11.76143 8.66650, ...</td>\n",
       "    </tr>\n",
       "    <tr>\n",
       "      <th>772</th>\n",
       "      <td>Zamfara</td>\n",
       "      <td>Zurmi</td>\n",
       "      <td>POLYGON ((7.04768 12.99911, 7.04995 12.97205, ...</td>\n",
       "    </tr>\n",
       "    <tr>\n",
       "      <th>773</th>\n",
       "      <td>Kebbi</td>\n",
       "      <td>Zuru</td>\n",
       "      <td>POLYGON ((5.39796 11.40265, 5.38775 11.39622, ...</td>\n",
       "    </tr>\n",
       "  </tbody>\n",
       "</table>\n",
       "<p>774 rows × 3 columns</p>\n",
       "</div>"
      ],
      "text/plain": [
       "                       ADM1_EN      ADM2_EN  \\\n",
       "0                         Abia    Aba North   \n",
       "1                         Abia    Aba South   \n",
       "2                        Borno       Abadam   \n",
       "3    Federal Capital Territory        Abaji   \n",
       "4                    Akwa Ibom         Abak   \n",
       "..                         ...          ...   \n",
       "769                     Kaduna  Zango-Kataf   \n",
       "770                     Kaduna        Zaria   \n",
       "771                     Taraba         Zing   \n",
       "772                    Zamfara        Zurmi   \n",
       "773                      Kebbi         Zuru   \n",
       "\n",
       "                                              geometry  \n",
       "0    POLYGON ((7.40111 5.08195, 7.40013 5.08237, 7....  \n",
       "1    POLYGON ((7.38749 5.08275, 7.38632 5.08236, 7....  \n",
       "2    POLYGON ((13.83477 13.42336, 13.81909 13.42175...  \n",
       "3    POLYGON ((7.04587 9.23050, 7.02654 9.22216, 7....  \n",
       "4    POLYGON ((7.81124 5.09453, 7.81233 5.09367, 7....  \n",
       "..                                                 ...  \n",
       "769  POLYGON ((8.51617 9.73717, 8.51729 9.73228, 8....  \n",
       "770  POLYGON ((7.77154 11.12362, 7.77156 11.11693, ...  \n",
       "771  POLYGON ((11.78946 8.64357, 11.76143 8.66650, ...  \n",
       "772  POLYGON ((7.04768 12.99911, 7.04995 12.97205, ...  \n",
       "773  POLYGON ((5.39796 11.40265, 5.38775 11.39622, ...  \n",
       "\n",
       "[774 rows x 3 columns]"
      ]
     },
     "execution_count": 6,
     "metadata": {},
     "output_type": "execute_result"
    }
   ],
   "source": [
    "poly = geopandas.GeoDataFrame.from_file('data/nga_adm_osgof_20190417_shp/nga_admbnda_adm2_osgof_20190417.shp')\n",
    "poly = poly[['ADM1_EN','ADM2_EN','geometry']]\n",
    "poly"
   ]
  },
  {
   "cell_type": "code",
   "execution_count": 7,
   "metadata": {
    "ExecuteTime": {
     "end_time": "2019-12-18T04:26:57.649311Z",
     "start_time": "2019-12-18T04:26:47.946168Z"
    }
   },
   "outputs": [],
   "source": [
    "location = []\n",
    "for point in points:\n",
    "    for adm1,adm2,po in zip(poly['ADM1_EN'],poly['ADM2_EN'],poly['geometry']):\n",
    "        if po.contains(point)==True:\n",
    "            adm = adm2+','+adm1\n",
    "            location.append(adm)"
   ]
  },
  {
   "cell_type": "code",
   "execution_count": 8,
   "metadata": {
    "ExecuteTime": {
     "end_time": "2019-12-18T04:26:57.655312Z",
     "start_time": "2019-12-18T04:26:57.651313Z"
    }
   },
   "outputs": [],
   "source": [
    "location = pd.DataFrame(location)\n",
    "location.columns = ['adm']"
   ]
  },
  {
   "cell_type": "code",
   "execution_count": 9,
   "metadata": {
    "ExecuteTime": {
     "end_time": "2019-12-18T04:26:57.733789Z",
     "start_time": "2019-12-18T04:26:57.657311Z"
    }
   },
   "outputs": [],
   "source": [
    "clusters = clusters.merge(location, left_index=True, right_index=True, how='inner')"
   ]
  },
  {
   "cell_type": "code",
   "execution_count": 10,
   "metadata": {
    "ExecuteTime": {
     "end_time": "2019-12-18T04:26:57.854122Z",
     "start_time": "2019-12-18T04:26:57.735771Z"
    }
   },
   "outputs": [
    {
     "data": {
      "text/html": [
       "<div>\n",
       "<style scoped>\n",
       "    .dataframe tbody tr th:only-of-type {\n",
       "        vertical-align: middle;\n",
       "    }\n",
       "\n",
       "    .dataframe tbody tr th {\n",
       "        vertical-align: top;\n",
       "    }\n",
       "\n",
       "    .dataframe thead th {\n",
       "        text-align: right;\n",
       "    }\n",
       "</style>\n",
       "<table border=\"1\" class=\"dataframe\">\n",
       "  <thead>\n",
       "    <tr style=\"text-align: right;\">\n",
       "      <th></th>\n",
       "      <th>label</th>\n",
       "      <th>population</th>\n",
       "      <th>lat</th>\n",
       "      <th>lon</th>\n",
       "      <th>area</th>\n",
       "      <th>density</th>\n",
       "      <th>address0</th>\n",
       "      <th>geometry</th>\n",
       "      <th>ongrid</th>\n",
       "      <th>score</th>\n",
       "      <th>adm</th>\n",
       "    </tr>\n",
       "  </thead>\n",
       "  <tbody>\n",
       "    <tr>\n",
       "      <th>0</th>\n",
       "      <td>353</td>\n",
       "      <td>4222</td>\n",
       "      <td>12.673658</td>\n",
       "      <td>10.412106</td>\n",
       "      <td>0</td>\n",
       "      <td>17878</td>\n",
       "      <td>Gogiya</td>\n",
       "      <td>POINT (10.41210645432109 12.67365755797058)</td>\n",
       "      <td>False</td>\n",
       "      <td>17878</td>\n",
       "      <td>Guri,Jigawa</td>\n",
       "    </tr>\n",
       "    <tr>\n",
       "      <th>1</th>\n",
       "      <td>359</td>\n",
       "      <td>9434</td>\n",
       "      <td>12.656897</td>\n",
       "      <td>10.342335</td>\n",
       "      <td>0</td>\n",
       "      <td>16520</td>\n",
       "      <td>Marma</td>\n",
       "      <td>POINT (10.34233549943618 12.65689708045506)</td>\n",
       "      <td>False</td>\n",
       "      <td>16520</td>\n",
       "      <td>Kiri Kasamma,Jigawa</td>\n",
       "    </tr>\n",
       "    <tr>\n",
       "      <th>2</th>\n",
       "      <td>455</td>\n",
       "      <td>4308</td>\n",
       "      <td>12.472996</td>\n",
       "      <td>10.442321</td>\n",
       "      <td>0</td>\n",
       "      <td>15202</td>\n",
       "      <td>Musari</td>\n",
       "      <td>POINT (10.44232140128945 12.47299618311559)</td>\n",
       "      <td>False</td>\n",
       "      <td>15202</td>\n",
       "      <td>Guri,Jigawa</td>\n",
       "    </tr>\n",
       "    <tr>\n",
       "      <th>3</th>\n",
       "      <td>1454</td>\n",
       "      <td>8710</td>\n",
       "      <td>10.731385</td>\n",
       "      <td>8.586353</td>\n",
       "      <td>0</td>\n",
       "      <td>14594</td>\n",
       "      <td>Doguwa</td>\n",
       "      <td>POINT (8.58635279403952 10.73138543975388)</td>\n",
       "      <td>False</td>\n",
       "      <td>14594</td>\n",
       "      <td>Doguwa,Kano</td>\n",
       "    </tr>\n",
       "    <tr>\n",
       "      <th>4</th>\n",
       "      <td>241</td>\n",
       "      <td>5098</td>\n",
       "      <td>12.840322</td>\n",
       "      <td>10.908617</td>\n",
       "      <td>0</td>\n",
       "      <td>13806</td>\n",
       "      <td>Dawayo</td>\n",
       "      <td>POINT (10.908617395084 12.84032211959036)</td>\n",
       "      <td>False</td>\n",
       "      <td>13806</td>\n",
       "      <td>Bade,Yobe</td>\n",
       "    </tr>\n",
       "  </tbody>\n",
       "</table>\n",
       "</div>"
      ],
      "text/plain": [
       "   label  population        lat        lon  area  density address0  \\\n",
       "0    353        4222  12.673658  10.412106     0    17878   Gogiya   \n",
       "1    359        9434  12.656897  10.342335     0    16520    Marma   \n",
       "2    455        4308  12.472996  10.442321     0    15202   Musari   \n",
       "3   1454        8710  10.731385   8.586353     0    14594   Doguwa   \n",
       "4    241        5098  12.840322  10.908617     0    13806   Dawayo   \n",
       "\n",
       "                                      geometry  ongrid  score  \\\n",
       "0  POINT (10.41210645432109 12.67365755797058)   False  17878   \n",
       "1  POINT (10.34233549943618 12.65689708045506)   False  16520   \n",
       "2  POINT (10.44232140128945 12.47299618311559)   False  15202   \n",
       "3   POINT (8.58635279403952 10.73138543975388)   False  14594   \n",
       "4    POINT (10.908617395084 12.84032211959036)   False  13806   \n",
       "\n",
       "                   adm  \n",
       "0          Guri,Jigawa  \n",
       "1  Kiri Kasamma,Jigawa  \n",
       "2          Guri,Jigawa  \n",
       "3          Doguwa,Kano  \n",
       "4            Bade,Yobe  "
      ]
     },
     "execution_count": 10,
     "metadata": {},
     "output_type": "execute_result"
    }
   ],
   "source": [
    "clusters.head()"
   ]
  },
  {
   "cell_type": "code",
   "execution_count": 11,
   "metadata": {
    "ExecuteTime": {
     "end_time": "2019-12-18T04:26:58.413837Z",
     "start_time": "2019-12-18T04:26:57.861116Z"
    }
   },
   "outputs": [],
   "source": [
    "clusters.to_excel(\"data/clusters_priority_adm2.xlsx\",index=False)"
   ]
  },
  {
   "cell_type": "code",
   "execution_count": 12,
   "metadata": {
    "ExecuteTime": {
     "end_time": "2019-12-18T04:26:58.431787Z",
     "start_time": "2019-12-18T04:26:58.414797Z"
    }
   },
   "outputs": [
    {
     "data": {
      "text/html": [
       "<div>\n",
       "<style scoped>\n",
       "    .dataframe tbody tr th:only-of-type {\n",
       "        vertical-align: middle;\n",
       "    }\n",
       "\n",
       "    .dataframe tbody tr th {\n",
       "        vertical-align: top;\n",
       "    }\n",
       "\n",
       "    .dataframe thead th {\n",
       "        text-align: right;\n",
       "    }\n",
       "</style>\n",
       "<table border=\"1\" class=\"dataframe\">\n",
       "  <thead>\n",
       "    <tr style=\"text-align: right;\">\n",
       "      <th></th>\n",
       "      <th>adm</th>\n",
       "      <th>population</th>\n",
       "    </tr>\n",
       "  </thead>\n",
       "  <tbody>\n",
       "    <tr>\n",
       "      <th>55</th>\n",
       "      <td>Bichi,Kano</td>\n",
       "      <td>339729</td>\n",
       "    </tr>\n",
       "    <tr>\n",
       "      <th>59</th>\n",
       "      <td>Birni Kudu,Jigawa</td>\n",
       "      <td>304213</td>\n",
       "    </tr>\n",
       "    <tr>\n",
       "      <th>169</th>\n",
       "      <td>Ikwo,Ebonyi</td>\n",
       "      <td>267677</td>\n",
       "    </tr>\n",
       "    <tr>\n",
       "      <th>276</th>\n",
       "      <td>Minjibir,Kano</td>\n",
       "      <td>255115</td>\n",
       "    </tr>\n",
       "    <tr>\n",
       "      <th>388</th>\n",
       "      <td>Wudil,Kano</td>\n",
       "      <td>249371</td>\n",
       "    </tr>\n",
       "    <tr>\n",
       "      <th>...</th>\n",
       "      <td>...</td>\n",
       "      <td>...</td>\n",
       "    </tr>\n",
       "    <tr>\n",
       "      <th>30</th>\n",
       "      <td>Asa,Kwara</td>\n",
       "      <td>4043</td>\n",
       "    </tr>\n",
       "    <tr>\n",
       "      <th>103</th>\n",
       "      <td>Esan North East,Edo</td>\n",
       "      <td>4014</td>\n",
       "    </tr>\n",
       "    <tr>\n",
       "      <th>308</th>\n",
       "      <td>Okigwe,Imo</td>\n",
       "      <td>3712</td>\n",
       "    </tr>\n",
       "    <tr>\n",
       "      <th>266</th>\n",
       "      <td>Markafi,Kaduna</td>\n",
       "      <td>2989</td>\n",
       "    </tr>\n",
       "    <tr>\n",
       "      <th>66</th>\n",
       "      <td>Bokkos,Plateau</td>\n",
       "      <td>2232</td>\n",
       "    </tr>\n",
       "  </tbody>\n",
       "</table>\n",
       "<p>406 rows × 2 columns</p>\n",
       "</div>"
      ],
      "text/plain": [
       "                     adm  population\n",
       "55            Bichi,Kano      339729\n",
       "59     Birni Kudu,Jigawa      304213\n",
       "169          Ikwo,Ebonyi      267677\n",
       "276        Minjibir,Kano      255115\n",
       "388           Wudil,Kano      249371\n",
       "..                   ...         ...\n",
       "30             Asa,Kwara        4043\n",
       "103  Esan North East,Edo        4014\n",
       "308           Okigwe,Imo        3712\n",
       "266       Markafi,Kaduna        2989\n",
       "66        Bokkos,Plateau        2232\n",
       "\n",
       "[406 rows x 2 columns]"
      ]
     },
     "execution_count": 12,
     "metadata": {},
     "output_type": "execute_result"
    }
   ],
   "source": [
    "clusterbyadm = clusters.groupby(['adm'])[['population']].sum().reset_index()\n",
    "clusterbyadm.sort_values(by='population',ascending=False)"
   ]
  },
  {
   "cell_type": "code",
   "execution_count": 16,
   "metadata": {
    "ExecuteTime": {
     "end_time": "2019-12-18T04:31:09.688797Z",
     "start_time": "2019-12-18T04:31:09.669808Z"
    }
   },
   "outputs": [
    {
     "data": {
      "text/html": [
       "<div>\n",
       "<style scoped>\n",
       "    .dataframe tbody tr th:only-of-type {\n",
       "        vertical-align: middle;\n",
       "    }\n",
       "\n",
       "    .dataframe tbody tr th {\n",
       "        vertical-align: top;\n",
       "    }\n",
       "\n",
       "    .dataframe thead th {\n",
       "        text-align: right;\n",
       "    }\n",
       "</style>\n",
       "<table border=\"1\" class=\"dataframe\">\n",
       "  <thead>\n",
       "    <tr style=\"text-align: right;\">\n",
       "      <th></th>\n",
       "      <th>population</th>\n",
       "      <th>area</th>\n",
       "      <th>density</th>\n",
       "    </tr>\n",
       "  </thead>\n",
       "  <tbody>\n",
       "    <tr>\n",
       "      <th>count</th>\n",
       "      <td>1984.000000</td>\n",
       "      <td>1984.000000</td>\n",
       "      <td>1984.000000</td>\n",
       "    </tr>\n",
       "    <tr>\n",
       "      <th>mean</th>\n",
       "      <td>9998.417339</td>\n",
       "      <td>11.369960</td>\n",
       "      <td>1594.900706</td>\n",
       "    </tr>\n",
       "    <tr>\n",
       "      <th>std</th>\n",
       "      <td>16394.107489</td>\n",
       "      <td>31.728602</td>\n",
       "      <td>1782.875580</td>\n",
       "    </tr>\n",
       "    <tr>\n",
       "      <th>min</th>\n",
       "      <td>668.000000</td>\n",
       "      <td>0.000000</td>\n",
       "      <td>306.000000</td>\n",
       "    </tr>\n",
       "    <tr>\n",
       "      <th>25%</th>\n",
       "      <td>4988.000000</td>\n",
       "      <td>3.000000</td>\n",
       "      <td>693.000000</td>\n",
       "    </tr>\n",
       "    <tr>\n",
       "      <th>50%</th>\n",
       "      <td>6558.000000</td>\n",
       "      <td>6.000000</td>\n",
       "      <td>1011.500000</td>\n",
       "    </tr>\n",
       "    <tr>\n",
       "      <th>75%</th>\n",
       "      <td>9845.500000</td>\n",
       "      <td>12.000000</td>\n",
       "      <td>1697.000000</td>\n",
       "    </tr>\n",
       "    <tr>\n",
       "      <th>max</th>\n",
       "      <td>339729.000000</td>\n",
       "      <td>706.000000</td>\n",
       "      <td>17878.000000</td>\n",
       "    </tr>\n",
       "  </tbody>\n",
       "</table>\n",
       "</div>"
      ],
      "text/plain": [
       "          population         area       density\n",
       "count    1984.000000  1984.000000   1984.000000\n",
       "mean     9998.417339    11.369960   1594.900706\n",
       "std     16394.107489    31.728602   1782.875580\n",
       "min       668.000000     0.000000    306.000000\n",
       "25%      4988.000000     3.000000    693.000000\n",
       "50%      6558.000000     6.000000   1011.500000\n",
       "75%      9845.500000    12.000000   1697.000000\n",
       "max    339729.000000   706.000000  17878.000000"
      ]
     },
     "execution_count": 16,
     "metadata": {},
     "output_type": "execute_result"
    }
   ],
   "source": [
    "clusters[['population','area','density']].describe()"
   ]
  },
  {
   "cell_type": "code",
   "execution_count": null,
   "metadata": {},
   "outputs": [],
   "source": []
  }
 ],
 "metadata": {
  "kernelspec": {
   "display_name": "Python 3",
   "language": "python",
   "name": "python3"
  },
  "language_info": {
   "codemirror_mode": {
    "name": "ipython",
    "version": 3
   },
   "file_extension": ".py",
   "mimetype": "text/x-python",
   "name": "python",
   "nbconvert_exporter": "python",
   "pygments_lexer": "ipython3",
   "version": "3.7.0"
  },
  "toc": {
   "base_numbering": 1,
   "nav_menu": {},
   "number_sections": true,
   "sideBar": true,
   "skip_h1_title": false,
   "title_cell": "Table of Contents",
   "title_sidebar": "Contents",
   "toc_cell": false,
   "toc_position": {},
   "toc_section_display": true,
   "toc_window_display": false
  },
  "varInspector": {
   "cols": {
    "lenName": 16,
    "lenType": 16,
    "lenVar": 40
   },
   "kernels_config": {
    "python": {
     "delete_cmd_postfix": "",
     "delete_cmd_prefix": "del ",
     "library": "var_list.py",
     "varRefreshCmd": "print(var_dic_list())"
    },
    "r": {
     "delete_cmd_postfix": ") ",
     "delete_cmd_prefix": "rm(",
     "library": "var_list.r",
     "varRefreshCmd": "cat(var_dic_list()) "
    }
   },
   "position": {
    "height": "144px",
    "left": "1208px",
    "right": "20px",
    "top": "-33px",
    "width": "350px"
   },
   "types_to_exclude": [
    "module",
    "function",
    "builtin_function_or_method",
    "instance",
    "_Feature"
   ],
   "window_display": true
  }
 },
 "nbformat": 4,
 "nbformat_minor": 2
}
