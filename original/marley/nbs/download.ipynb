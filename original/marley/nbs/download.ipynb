{
 "cells": [
  {
   "cell_type": "code",
   "execution_count": 22,
   "metadata": {},
   "outputs": [
    {
     "name": "stderr",
     "output_type": "stream",
     "text": [
      "[cellevents:INFO]:starting (cellevents.py:43, time=Dec-01 14:54)\n"
     ]
    },
    {
     "name": "stdout",
     "output_type": "stream",
     "text": [
      "time: 9 ms\n"
     ]
    }
   ],
   "source": [
    "from marley.utils.ipstartup import *\n",
    "from marley.renewable import *\n",
    "from marley import gdrive2local"
   ]
  },
  {
   "cell_type": "markdown",
   "metadata": {},
   "source": [
    "# download to google drive"
   ]
  },
  {
   "cell_type": "code",
   "execution_count": 11,
   "metadata": {},
   "outputs": [
    {
     "name": "stderr",
     "output_type": "stream",
     "text": [
      "[cellevents:INFO]:starting (cellevents.py:43, time=Nov-28 12:00)\n"
     ]
    },
    {
     "name": "stdout",
     "output_type": "stream",
     "text": [
      "['01/10/19', '01/09/19', '01/08/19', '01/07/19', '01/06/19', '01/05/19', '01/04/19', '01/03/19', '01/02/19', '01/01/19', '01/12/18', '01/11/18']\n",
      "id=NOAA/VIIRS/DNB/MONTHLY_V1/VCMSLCFG_median transform=[0.0041666667, 0.0, -180.00208525335, 0.0, -0.0041666667, 75.00208393335001] dimensions=[2882, 2309]\n"
     ]
    },
    {
     "name": "stderr",
     "output_type": "stream",
     "text": [
      "[root:INFO]:makedir: eedata, None, False (googledrivefs.py:311, time=Nov-28 12:00)\n"
     ]
    },
    {
     "data": {
      "text/plain": [
       "['NOAA_VIIRS_DNB_MONTHLY_V1_VCMSLCFG_median_avg_rad.tif',\n",
       " 'NOAA_VIIRS_DNB_MONTHLY_V1_VCMSLCFG_median_cf_cvg.tif']"
      ]
     },
     "execution_count": 11,
     "metadata": {},
     "output_type": "execute_result"
    },
    {
     "name": "stdout",
     "output_type": "stream",
     "text": [
      "time: 13.4 s\n"
     ]
    }
   ],
   "source": [
    "# all from omdena.py\n",
    "onemonth()\n",
    "sl_lights()\n",
    "dmsp_lights()\n",
    "lights()\n",
    "population()\n",
    "gpw_population()\n",
    "monthly_lights()"
   ]
  },
  {
   "cell_type": "markdown",
   "metadata": {},
   "source": [
    "# Download to local"
   ]
  },
  {
   "cell_type": "code",
   "execution_count": 24,
   "metadata": {},
   "outputs": [
    {
     "name": "stderr",
     "output_type": "stream",
     "text": [
      "[cellevents:INFO]:starting (cellevents.py:43, time=Dec-01 14:54)\n"
     ]
    },
    {
     "name": "stdout",
     "output_type": "stream",
     "text": [
      "time: 2.95 ms\n"
     ]
    }
   ],
   "source": [
    "files = ['NOAA_DMSP-OLS_NIGHTTIME_LIGHTS_median_avg_vis.tif',\n",
    " 'NOAA_DMSP-OLS_NIGHTTIME_LIGHTS_median_stable_lights.tif',\n",
    " 'NOAA_DMSP-OLS_NIGHTTIME_LIGHTS_median_cf_cvg.tif',\n",
    " 'NOAA_DMSP-OLS_NIGHTTIME_LIGHTS_median_avg_lights_x_pct.tif']"
   ]
  },
  {
   "cell_type": "code",
   "execution_count": 37,
   "metadata": {},
   "outputs": [
    {
     "name": "stderr",
     "output_type": "stream",
     "text": [
      "[cellevents:INFO]:starting (cellevents.py:43, time=Dec-01 15:03)\n",
      "[root:INFO]:makedir: eedata, None, False (googledrivefs.py:311, time=Dec-01 15:03)\n",
      "[root:INFO]:openbin: /eedata/NOAA_DMSP-OLS_NIGHTTIME_LIGHTS_median_stable_lights.tif, r, -1 (googledrivefs.py:333, time=Dec-01 15:03)\n",
      "[root:INFO]:local=1 googledrive=4 (__init__.py:63, time=Dec-01 15:03)\n",
      "[root:INFO]:openbin: /eedata/NOAA_DMSP-OLS_NIGHTTIME_LIGHTS_median_cf_cvg.tif, r, -1 (googledrivefs.py:333, time=Dec-01 15:03)\n",
      "[root:INFO]:local=2 googledrive=4 (__init__.py:63, time=Dec-01 15:03)\n",
      "[root:INFO]:openbin: /eedata/NOAA_DMSP-OLS_NIGHTTIME_LIGHTS_median_avg_lights_x_pct.tif, r, -1 (googledrivefs.py:333, time=Dec-01 15:03)\n",
      "[root:INFO]:local=3 googledrive=4 (__init__.py:63, time=Dec-01 15:03)\n",
      "[root:INFO]:openbin: /eedata/NOAA_DMSP-OLS_NIGHTTIME_LIGHTS_median_avg_vis.tif, r, -1 (googledrivefs.py:333, time=Dec-01 15:03)\n",
      "[root:INFO]:local=4 googledrive=4 (__init__.py:63, time=Dec-01 15:03)\n"
     ]
    },
    {
     "name": "stdout",
     "output_type": "stream",
     "text": [
      "time: 13.3 s\n"
     ]
    }
   ],
   "source": [
    "# wait until tasks completed (could be an hour) OR or run several times OR pass list of files to wait for\n",
    "# if you get any zero sized files then delete them and rerun.\n",
    "gdrive2local(files)"
   ]
  },
  {
   "cell_type": "code",
   "execution_count": null,
   "metadata": {},
   "outputs": [],
   "source": []
  }
 ],
 "metadata": {
  "jupytext": {
   "text_representation": {
    "extension": ".py",
    "format_name": "percent",
    "format_version": "1.2",
    "jupytext_version": "1.2.1"
   }
  },
  "kernelspec": {
   "display_name": "Python 3",
   "language": "python",
   "name": "python3"
  },
  "language_info": {
   "codemirror_mode": {
    "name": "ipython",
    "version": 3
   },
   "file_extension": ".py",
   "mimetype": "text/x-python",
   "name": "python",
   "nbconvert_exporter": "python",
   "pygments_lexer": "ipython3",
   "version": "3.7.3"
  }
 },
 "nbformat": 4,
 "nbformat_minor": 2
}
