{
 "cells": [
  {
   "cell_type": "code",
   "execution_count": 1,
   "metadata": {},
   "outputs": [],
   "source": [
    "import pandas as pd\n",
    "import shapely\n",
    "from shapely.geometry import shape,mapping, Point, Polygon, MultiPolygon\n",
    "shapely.speedups.enable()\n",
    "import geopandas\n",
    "from geopandas import GeoDataFrame\n",
    "import os\n",
    "import re"
   ]
  },
  {
   "cell_type": "code",
   "execution_count": 2,
   "metadata": {},
   "outputs": [],
   "source": [
    "solar = pd.read_csv('pred.csv')"
   ]
  },
  {
   "cell_type": "code",
   "execution_count": 3,
   "metadata": {},
   "outputs": [],
   "source": [
    "solar_median = solar.groupby(['LAT','LON'])[['pred_solar']].median().reset_index() #KWh per square meter per day"
   ]
  },
  {
   "cell_type": "code",
   "execution_count": 4,
   "metadata": {},
   "outputs": [],
   "source": [
    "points = []\n",
    "for lat, lon in zip(solar_median['LAT'],solar_median['LON']):\n",
    "    p = Point(lon,lat)\n",
    "    points.append(p)"
   ]
  },
  {
   "cell_type": "code",
   "execution_count": 5,
   "metadata": {},
   "outputs": [],
   "source": [
    "poly = geopandas.GeoDataFrame.from_file('data/nga_adm_osgof_20190417_shp/nga_admbnda_adm2_osgof_20190417.shp')\n",
    "poly = poly[['ADM1_EN','ADM2_EN','geometry']]"
   ]
  },
  {
   "cell_type": "code",
   "execution_count": 6,
   "metadata": {},
   "outputs": [],
   "source": [
    "location = []\n",
    "for point in points:\n",
    "    for adm1,po in zip(poly['ADM1_EN'],poly['geometry']):\n",
    "        if po.contains(point)==True:\n",
    "            location.append(adm1)"
   ]
  },
  {
   "cell_type": "code",
   "execution_count": 7,
   "metadata": {},
   "outputs": [],
   "source": [
    "location = pd.DataFrame(location)\n",
    "location.columns = ['adm1']"
   ]
  },
  {
   "cell_type": "code",
   "execution_count": 8,
   "metadata": {},
   "outputs": [
    {
     "data": {
      "text/html": [
       "<div>\n",
       "<style scoped>\n",
       "    .dataframe tbody tr th:only-of-type {\n",
       "        vertical-align: middle;\n",
       "    }\n",
       "\n",
       "    .dataframe tbody tr th {\n",
       "        vertical-align: top;\n",
       "    }\n",
       "\n",
       "    .dataframe thead th {\n",
       "        text-align: right;\n",
       "    }\n",
       "</style>\n",
       "<table border=\"1\" class=\"dataframe\">\n",
       "  <thead>\n",
       "    <tr style=\"text-align: right;\">\n",
       "      <th></th>\n",
       "      <th>LAT</th>\n",
       "      <th>LON</th>\n",
       "      <th>pred_solar</th>\n",
       "      <th>adm1</th>\n",
       "    </tr>\n",
       "  </thead>\n",
       "  <tbody>\n",
       "    <tr>\n",
       "      <th>0</th>\n",
       "      <td>4.85811</td>\n",
       "      <td>6.92091</td>\n",
       "      <td>2.465960</td>\n",
       "      <td>Rivers</td>\n",
       "    </tr>\n",
       "    <tr>\n",
       "      <th>1</th>\n",
       "      <td>4.86781</td>\n",
       "      <td>5.89871</td>\n",
       "      <td>3.367255</td>\n",
       "      <td>Bayelsa</td>\n",
       "    </tr>\n",
       "    <tr>\n",
       "      <th>2</th>\n",
       "      <td>4.93001</td>\n",
       "      <td>7.87221</td>\n",
       "      <td>3.024034</td>\n",
       "      <td>Akwa Ibom</td>\n",
       "    </tr>\n",
       "    <tr>\n",
       "      <th>3</th>\n",
       "      <td>5.43091</td>\n",
       "      <td>7.52471</td>\n",
       "      <td>1.670673</td>\n",
       "      <td>Abia</td>\n",
       "    </tr>\n",
       "    <tr>\n",
       "      <th>4</th>\n",
       "      <td>5.53251</td>\n",
       "      <td>5.89871</td>\n",
       "      <td>2.356936</td>\n",
       "      <td>Delta</td>\n",
       "    </tr>\n",
       "  </tbody>\n",
       "</table>\n",
       "</div>"
      ],
      "text/plain": [
       "       LAT      LON  pred_solar       adm1\n",
       "0  4.85811  6.92091    2.465960     Rivers\n",
       "1  4.86781  5.89871    3.367255    Bayelsa\n",
       "2  4.93001  7.87221    3.024034  Akwa Ibom\n",
       "3  5.43091  7.52471    1.670673       Abia\n",
       "4  5.53251  5.89871    2.356936      Delta"
      ]
     },
     "execution_count": 8,
     "metadata": {},
     "output_type": "execute_result"
    }
   ],
   "source": [
    "solar_median = solar_median.merge(location, left_index=True, right_index=True)"
   ]
  },
  {
   "cell_type": "code",
   "execution_count": 9,
   "metadata": {},
   "outputs": [],
   "source": [
    "os.chdir('/Users/macbookair/Downloads/GitHub/renewable/clusters_1km/')"
   ]
  },
  {
   "cell_type": "code",
   "execution_count": 10,
   "metadata": {},
   "outputs": [],
   "source": [
    "clusters = pd.read_excel('clusters.xlsx')"
   ]
  },
  {
   "cell_type": "code",
   "execution_count": 12,
   "metadata": {},
   "outputs": [],
   "source": [
    "clusters_1km = clusters.merge(solar_median, left_on ='adm1', right_on = 'adm1', how='left')\n",
    "clusters_1km = clusters_1km.drop(['LAT','LON'],axis=1)"
   ]
  },
  {
   "cell_type": "code",
   "execution_count": 17,
   "metadata": {},
   "outputs": [],
   "source": [
    "clusters_1km.to_excel('clusters.xlsx',index=False)"
   ]
  },
  {
   "cell_type": "code",
   "execution_count": null,
   "metadata": {},
   "outputs": [],
   "source": []
  }
 ],
 "metadata": {
  "kernelspec": {
   "display_name": "Python 3",
   "language": "python",
   "name": "python3"
  },
  "language_info": {
   "codemirror_mode": {
    "name": "ipython",
    "version": 3
   },
   "file_extension": ".py",
   "mimetype": "text/x-python",
   "name": "python",
   "nbconvert_exporter": "python",
   "pygments_lexer": "ipython3",
   "version": "3.7.5"
  }
 },
 "nbformat": 4,
 "nbformat_minor": 2
}
