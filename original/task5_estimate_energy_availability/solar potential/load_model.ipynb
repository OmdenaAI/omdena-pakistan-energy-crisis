{
 "cells": [
  {
   "cell_type": "code",
   "execution_count": 1,
   "metadata": {},
   "outputs": [
    {
     "name": "stderr",
     "output_type": "stream",
     "text": [
      "/Users/macbookair/anaconda3/envs/omdena/lib/python3.7/site-packages/lightgbm/__init__.py:48: UserWarning: Starting from version 2.2.1, the library file in distribution wheels for macOS is built by the Apple Clang (Xcode_8.3.3) compiler.\n",
      "This means that in case of installing LightGBM from PyPI via the ``pip install lightgbm`` command, you don't need to install the gcc compiler anymore.\n",
      "Instead of that, you need to install the OpenMP library, which is required for running LightGBM on the system with the Apple Clang compiler.\n",
      "You can install the OpenMP library by the following command: ``brew install libomp``.\n",
      "  \"You can install the OpenMP library by the following command: ``brew install libomp``.\", UserWarning)\n"
     ]
    }
   ],
   "source": [
    "import pandas as pd\n",
    "import pickle\n",
    "import numpy as np\n",
    "import glob\n",
    "import os\n",
    "from sklearn import preprocessing\n",
    "import matplotlib.pyplot as plt\n",
    "from sklearn.model_selection import KFold,train_test_split\n",
    "from sklearn.model_selection import TimeSeriesSplit,KFold, StratifiedKFold\n",
    "import lightgbm as lgb\n",
    "import xgboost as xgb\n",
    "from time import time"
   ]
  },
  {
   "cell_type": "code",
   "execution_count": 2,
   "metadata": {},
   "outputs": [
    {
     "name": "stderr",
     "output_type": "stream",
     "text": [
      "/Users/macbookair/anaconda3/envs/omdena/lib/python3.7/site-packages/ipykernel_launcher.py:1: FutureWarning: Sorting because non-concatenation axis is not aligned. A future version\n",
      "of pandas will change to not sort by default.\n",
      "\n",
      "To accept the future behavior, pass 'sort=False'.\n",
      "\n",
      "To retain the current behavior and silence the warning, pass 'sort=True'.\n",
      "\n",
      "  \"\"\"Entry point for launching an IPython kernel.\n"
     ]
    }
   ],
   "source": [
    "solar = pd.concat(map(pd.read_csv,glob.glob(os.path.join(\"\",\"data/Nigerian States/*.csv\"))))   \n",
    "solar =solar[['LAT','LON','YEAR','MO','DY','RH2M','PS','T2M']]\n",
    "solar = solar[(solar['RH2M']>=0)&(solar['PS']>=0)&(solar['T2M']>=0)]"
   ]
  },
  {
   "cell_type": "code",
   "execution_count": 3,
   "metadata": {},
   "outputs": [],
   "source": [
    "year = solar[['LAT','LON','YEAR']].drop_duplicates()\n",
    "year['rank'] = year.groupby(['LAT','LON'])[['YEAR']].rank(method='dense',ascending=False)\n",
    "year = year[year['rank']<=5]"
   ]
  },
  {
   "cell_type": "code",
   "execution_count": null,
   "metadata": {},
   "outputs": [],
   "source": [
    "solar = year.merge(solar, how='left')\n",
    "solar = solar.reset_index()"
   ]
  },
  {
   "cell_type": "code",
   "execution_count": null,
   "metadata": {},
   "outputs": [],
   "source": [
    "os.chdir('/Users/macbookair/Downloads/GitHub/renewable/Simple Solar Energy Predictor')"
   ]
  },
  {
   "cell_type": "code",
   "execution_count": null,
   "metadata": {},
   "outputs": [],
   "source": [
    "# Load the model\n",
    "models = []\n",
    "for i in range(5):\n",
    "    clf = pickle.load(open(f\"XGBoost_KFold_GPU_model_{i}.dat\", 'rb'))\n",
    "    models.append(clf)"
   ]
  },
  {
   "cell_type": "code",
   "execution_count": null,
   "metadata": {},
   "outputs": [],
   "source": [
    "os.chdir('/Users/macbookair/Downloads/GitHub/renewable/task5_estimate_energy_availability/solar potential')"
   ]
  },
  {
   "cell_type": "code",
   "execution_count": null,
   "metadata": {},
   "outputs": [],
   "source": [
    "pred_values = []\n",
    "for lat, lon, year, mo, dy,rh,ps,tm in zip(solar['LAT'], solar['LON'], solar['YEAR'],\n",
    "                                   solar['MO'], solar['DY'], solar['RH2M'],\n",
    "                                   solar['PS'], solar['T2M']):\n",
    "    test_df = pd.DataFrame([[lat, lon, year, mo, dy,rh,ps,tm]])\n",
    "    test_df.columns = ['LAT', 'LON', 'YEAR', 'MO', 'DY', 'RH2M', 'PS', 'T2M']\n",
    "    pred = sum([clf.predict(test_df) for clf in models])/5\n",
    "    pred_values.append(pred)"
   ]
  },
  {
   "cell_type": "code",
   "execution_count": null,
   "metadata": {},
   "outputs": [],
   "source": [
    "pred_values = pd.DataFrame(pred_values)\n",
    "pred_values.columns = ['pred_solar']\n",
    "solar_irr = solar.merge(pred_values,left_index=True, right_index=True, how = 'inner')"
   ]
  },
  {
   "cell_type": "code",
   "execution_count": null,
   "metadata": {},
   "outputs": [],
   "source": [
    "solar_irr.to_csv('pred_5.csv',index=False)"
   ]
  }
 ],
 "metadata": {
  "kernelspec": {
   "display_name": "Python 3",
   "language": "python",
   "name": "python3"
  },
  "language_info": {
   "codemirror_mode": {
    "name": "ipython",
    "version": 3
   },
   "file_extension": ".py",
   "mimetype": "text/x-python",
   "name": "python",
   "nbconvert_exporter": "python",
   "pygments_lexer": "ipython3",
   "version": "3.7.5"
  }
 },
 "nbformat": 4,
 "nbformat_minor": 2
}
