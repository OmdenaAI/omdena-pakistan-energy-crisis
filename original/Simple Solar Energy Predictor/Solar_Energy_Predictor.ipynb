{
 "cells": [
  {
   "cell_type": "markdown",
   "metadata": {},
   "source": [
    "###  Import libraries"
   ]
  },
  {
   "cell_type": "code",
   "execution_count": 1,
   "metadata": {
    "colab": {},
    "colab_type": "code",
    "id": "ZdfSogFnM7kO"
   },
   "outputs": [],
   "source": [
    "import pandas as pd\n",
    "import numpy as np\n",
    "from sklearn import preprocessing\n",
    "import matplotlib.pyplot as plt\n",
    "from sklearn.model_selection import KFold,train_test_split\n",
    "from sklearn.model_selection import TimeSeriesSplit,KFold, StratifiedKFold\n",
    "import lightgbm as lgb\n",
    "import xgboost as xgb\n",
    "\n",
    "import catboost as cb\n",
    "from time import time"
   ]
  },
  {
   "cell_type": "code",
   "execution_count": null,
   "metadata": {
    "colab": {},
    "colab_type": "code",
    "id": "krPpyYesRjyo"
   },
   "outputs": [],
   "source": [
    "'''\n",
    "import glob\n",
    "\n",
    "path = r'/content/drive/My Drive/Omdena Nigeria Challenge/DataSets/NASA_Weather_Solar_Dataset' # use your path\n",
    "all_files = glob.glob(path + \"/*.csv\")\n",
    "\n",
    "li = []\n",
    "\n",
    "for filename in all_files:\n",
    "    df = pd.read_csv(filename, index_col=None, header=0)\n",
    "    li.append(df)\n",
    "\n",
    "train = pd.concat(li, axis=0, ignore_index=True)\n",
    "'''"
   ]
  },
  {
   "cell_type": "markdown",
   "metadata": {},
   "source": [
    "#### Data File available at https://drive.google.com/drive/folders/1Abvor2SMB4ByBdVnfFqYkVJXf7kzQI4i"
   ]
  },
  {
   "cell_type": "code",
   "execution_count": 2,
   "metadata": {
    "colab": {},
    "colab_type": "code",
    "id": "tGtSdTiGg_AG"
   },
   "outputs": [],
   "source": [
    "train = pd.read_csv('Nigeria_complete.csv',low_memory=False)"
   ]
  },
  {
   "cell_type": "code",
   "execution_count": 3,
   "metadata": {
    "colab": {},
    "colab_type": "code",
    "id": "NrS6QlTqhPYO"
   },
   "outputs": [
    {
     "data": {
      "text/html": [
       "<div>\n",
       "<style scoped>\n",
       "    .dataframe tbody tr th:only-of-type {\n",
       "        vertical-align: middle;\n",
       "    }\n",
       "\n",
       "    .dataframe tbody tr th {\n",
       "        vertical-align: top;\n",
       "    }\n",
       "\n",
       "    .dataframe thead th {\n",
       "        text-align: right;\n",
       "    }\n",
       "</style>\n",
       "<table border=\"1\" class=\"dataframe\">\n",
       "  <thead>\n",
       "    <tr style=\"text-align: right;\">\n",
       "      <th></th>\n",
       "      <th>LAT</th>\n",
       "      <th>LON</th>\n",
       "      <th>YEAR</th>\n",
       "      <th>MO</th>\n",
       "      <th>DY</th>\n",
       "      <th>PRECTOT</th>\n",
       "      <th>RH2M</th>\n",
       "      <th>PS</th>\n",
       "      <th>T2M_RANGE</th>\n",
       "      <th>T2M_MAX</th>\n",
       "      <th>T2M_MIN</th>\n",
       "      <th>T2M</th>\n",
       "      <th>WD10M</th>\n",
       "      <th>WS10M</th>\n",
       "      <th>KT</th>\n",
       "      <th>CLRSKY_SFC_SW_DWN</th>\n",
       "      <th>ALLSKY_SFC_LW_DWN</th>\n",
       "      <th>TS</th>\n",
       "      <th>QV2M</th>\n",
       "      <th>ALLSKY_SFC_SW_DWN</th>\n",
       "    </tr>\n",
       "  </thead>\n",
       "  <tbody>\n",
       "    <tr>\n",
       "      <th>0</th>\n",
       "      <td>3.75</td>\n",
       "      <td>2.75</td>\n",
       "      <td>1982</td>\n",
       "      <td>1</td>\n",
       "      <td>2</td>\n",
       "      <td>0.04</td>\n",
       "      <td>80.54</td>\n",
       "      <td>100.83</td>\n",
       "      <td>0.36</td>\n",
       "      <td>27.74</td>\n",
       "      <td>27.38</td>\n",
       "      <td>27.55</td>\n",
       "      <td>204.91</td>\n",
       "      <td>2.60</td>\n",
       "      <td>-999</td>\n",
       "      <td>-999.0</td>\n",
       "      <td>-999.0</td>\n",
       "      <td>28.81</td>\n",
       "      <td>0.018508</td>\n",
       "      <td>-999.0</td>\n",
       "    </tr>\n",
       "    <tr>\n",
       "      <th>1</th>\n",
       "      <td>3.75</td>\n",
       "      <td>2.75</td>\n",
       "      <td>1982</td>\n",
       "      <td>1</td>\n",
       "      <td>3</td>\n",
       "      <td>0.26</td>\n",
       "      <td>81.63</td>\n",
       "      <td>100.89</td>\n",
       "      <td>0.57</td>\n",
       "      <td>27.78</td>\n",
       "      <td>27.21</td>\n",
       "      <td>27.53</td>\n",
       "      <td>199.29</td>\n",
       "      <td>2.90</td>\n",
       "      <td>-999</td>\n",
       "      <td>-999.0</td>\n",
       "      <td>-999.0</td>\n",
       "      <td>28.94</td>\n",
       "      <td>0.018725</td>\n",
       "      <td>-999.0</td>\n",
       "    </tr>\n",
       "    <tr>\n",
       "      <th>2</th>\n",
       "      <td>3.75</td>\n",
       "      <td>2.75</td>\n",
       "      <td>1982</td>\n",
       "      <td>1</td>\n",
       "      <td>4</td>\n",
       "      <td>1.45</td>\n",
       "      <td>80.47</td>\n",
       "      <td>100.93</td>\n",
       "      <td>0.86</td>\n",
       "      <td>27.60</td>\n",
       "      <td>26.74</td>\n",
       "      <td>27.25</td>\n",
       "      <td>203.05</td>\n",
       "      <td>2.32</td>\n",
       "      <td>-999</td>\n",
       "      <td>-999.0</td>\n",
       "      <td>-999.0</td>\n",
       "      <td>28.88</td>\n",
       "      <td>0.018150</td>\n",
       "      <td>-999.0</td>\n",
       "    </tr>\n",
       "    <tr>\n",
       "      <th>3</th>\n",
       "      <td>3.75</td>\n",
       "      <td>2.75</td>\n",
       "      <td>1982</td>\n",
       "      <td>1</td>\n",
       "      <td>5</td>\n",
       "      <td>1.07</td>\n",
       "      <td>80.80</td>\n",
       "      <td>100.91</td>\n",
       "      <td>0.46</td>\n",
       "      <td>27.21</td>\n",
       "      <td>26.75</td>\n",
       "      <td>27.01</td>\n",
       "      <td>186.59</td>\n",
       "      <td>2.25</td>\n",
       "      <td>-999</td>\n",
       "      <td>-999.0</td>\n",
       "      <td>-999.0</td>\n",
       "      <td>28.80</td>\n",
       "      <td>0.017964</td>\n",
       "      <td>-999.0</td>\n",
       "    </tr>\n",
       "    <tr>\n",
       "      <th>4</th>\n",
       "      <td>3.75</td>\n",
       "      <td>2.75</td>\n",
       "      <td>1982</td>\n",
       "      <td>1</td>\n",
       "      <td>6</td>\n",
       "      <td>10.35</td>\n",
       "      <td>80.55</td>\n",
       "      <td>100.97</td>\n",
       "      <td>0.28</td>\n",
       "      <td>27.15</td>\n",
       "      <td>26.87</td>\n",
       "      <td>27.02</td>\n",
       "      <td>270.60</td>\n",
       "      <td>2.64</td>\n",
       "      <td>-999</td>\n",
       "      <td>-999.0</td>\n",
       "      <td>-999.0</td>\n",
       "      <td>28.74</td>\n",
       "      <td>0.017915</td>\n",
       "      <td>-999.0</td>\n",
       "    </tr>\n",
       "  </tbody>\n",
       "</table>\n",
       "</div>"
      ],
      "text/plain": [
       "    LAT   LON  YEAR  MO  DY  PRECTOT   RH2M      PS  T2M_RANGE  T2M_MAX  \\\n",
       "0  3.75  2.75  1982   1   2     0.04  80.54  100.83       0.36    27.74   \n",
       "1  3.75  2.75  1982   1   3     0.26  81.63  100.89       0.57    27.78   \n",
       "2  3.75  2.75  1982   1   4     1.45  80.47  100.93       0.86    27.60   \n",
       "3  3.75  2.75  1982   1   5     1.07  80.80  100.91       0.46    27.21   \n",
       "4  3.75  2.75  1982   1   6    10.35  80.55  100.97       0.28    27.15   \n",
       "\n",
       "   T2M_MIN    T2M   WD10M  WS10M    KT  CLRSKY_SFC_SW_DWN  ALLSKY_SFC_LW_DWN  \\\n",
       "0    27.38  27.55  204.91   2.60  -999             -999.0             -999.0   \n",
       "1    27.21  27.53  199.29   2.90  -999             -999.0             -999.0   \n",
       "2    26.74  27.25  203.05   2.32  -999             -999.0             -999.0   \n",
       "3    26.75  27.01  186.59   2.25  -999             -999.0             -999.0   \n",
       "4    26.87  27.02  270.60   2.64  -999             -999.0             -999.0   \n",
       "\n",
       "      TS      QV2M  ALLSKY_SFC_SW_DWN  \n",
       "0  28.81  0.018508             -999.0  \n",
       "1  28.94  0.018725             -999.0  \n",
       "2  28.88  0.018150             -999.0  \n",
       "3  28.80  0.017964             -999.0  \n",
       "4  28.74  0.017915             -999.0  "
      ]
     },
     "execution_count": 3,
     "metadata": {},
     "output_type": "execute_result"
    }
   ],
   "source": [
    "train.head()"
   ]
  },
  {
   "cell_type": "markdown",
   "metadata": {
    "colab_type": "text",
    "id": "2AD53CcrkQpB"
   },
   "source": [
    "\n",
    "## Parameter Definitions\n",
    "\n",
    "PRECTOT = Precipitation Per Day mm\n",
    "\n",
    "PS = Surface Pressure\n",
    "\n",
    "TS = Earth Skin Temperature\n",
    "\n",
    "QV2M = Specific Humidity\n",
    "\n",
    "RH2M = Relative Humidity\n",
    "\n",
    "KT = Insolation Clearness Index\n",
    "\n",
    "ALLSKY_SFC_SW_DWN\t = All Sky Insolation Incident on a Horizontal Surface\n",
    "\n",
    "CLRSKY_SFC_SW_DWN = Clear Sky Insolation Incident On a Horizontal Surface \n"
   ]
  },
  {
   "cell_type": "markdown",
   "metadata": {},
   "source": [
    "### Data Preprocessing"
   ]
  },
  {
   "cell_type": "code",
   "execution_count": 4,
   "metadata": {
    "colab": {},
    "colab_type": "code",
    "id": "po22UIbqheVx"
   },
   "outputs": [],
   "source": [
    "drop_column = ['T2M_RANGE','T2M_MAX','T2M_MIN','WD10M','WS10M','KT',\n",
    "               'CLRSKY_SFC_SW_DWN','ALLSKY_SFC_LW_DWN','TS','QV2M',\n",
    "               'PRECTOT']\n"
   ]
  },
  {
   "cell_type": "code",
   "execution_count": 5,
   "metadata": {},
   "outputs": [],
   "source": [
    "def preprocess(data, drop_column):\n",
    "  data = data[data.ALLSKY_SFC_SW_DWN!= -999]\n",
    "  data = data.drop(columns = drop_column)\n",
    "  return data"
   ]
  },
  {
   "cell_type": "code",
   "execution_count": 6,
   "metadata": {
    "colab": {},
    "colab_type": "code",
    "id": "tQINtOuxTqHd"
   },
   "outputs": [],
   "source": [
    "train_processed = preprocess(train,drop_column)"
   ]
  },
  {
   "cell_type": "code",
   "execution_count": 7,
   "metadata": {
    "colab": {},
    "colab_type": "code",
    "id": "SGQoaX6qUGEi"
   },
   "outputs": [],
   "source": [
    "y = train_processed.ALLSKY_SFC_SW_DWN.values\n",
    "train_processed = train_processed.drop(columns = ['ALLSKY_SFC_SW_DWN'])"
   ]
  },
  {
   "cell_type": "code",
   "execution_count": 8,
   "metadata": {
    "colab": {},
    "colab_type": "code",
    "id": "LIkYyxvjspL3"
   },
   "outputs": [
    {
     "data": {
      "text/html": [
       "<div>\n",
       "<style scoped>\n",
       "    .dataframe tbody tr th:only-of-type {\n",
       "        vertical-align: middle;\n",
       "    }\n",
       "\n",
       "    .dataframe tbody tr th {\n",
       "        vertical-align: top;\n",
       "    }\n",
       "\n",
       "    .dataframe thead th {\n",
       "        text-align: right;\n",
       "    }\n",
       "</style>\n",
       "<table border=\"1\" class=\"dataframe\">\n",
       "  <thead>\n",
       "    <tr style=\"text-align: right;\">\n",
       "      <th></th>\n",
       "      <th>LAT</th>\n",
       "      <th>LON</th>\n",
       "      <th>YEAR</th>\n",
       "      <th>MO</th>\n",
       "      <th>DY</th>\n",
       "      <th>RH2M</th>\n",
       "      <th>PS</th>\n",
       "      <th>T2M</th>\n",
       "    </tr>\n",
       "  </thead>\n",
       "  <tbody>\n",
       "    <tr>\n",
       "      <th>545</th>\n",
       "      <td>3.75</td>\n",
       "      <td>2.75</td>\n",
       "      <td>1983</td>\n",
       "      <td>7</td>\n",
       "      <td>1</td>\n",
       "      <td>76.96</td>\n",
       "      <td>101.43</td>\n",
       "      <td>25.36</td>\n",
       "    </tr>\n",
       "    <tr>\n",
       "      <th>546</th>\n",
       "      <td>3.75</td>\n",
       "      <td>2.75</td>\n",
       "      <td>1983</td>\n",
       "      <td>7</td>\n",
       "      <td>2</td>\n",
       "      <td>79.74</td>\n",
       "      <td>101.31</td>\n",
       "      <td>25.38</td>\n",
       "    </tr>\n",
       "    <tr>\n",
       "      <th>547</th>\n",
       "      <td>3.75</td>\n",
       "      <td>2.75</td>\n",
       "      <td>1983</td>\n",
       "      <td>7</td>\n",
       "      <td>3</td>\n",
       "      <td>80.32</td>\n",
       "      <td>101.27</td>\n",
       "      <td>25.42</td>\n",
       "    </tr>\n",
       "    <tr>\n",
       "      <th>548</th>\n",
       "      <td>3.75</td>\n",
       "      <td>2.75</td>\n",
       "      <td>1983</td>\n",
       "      <td>7</td>\n",
       "      <td>4</td>\n",
       "      <td>78.98</td>\n",
       "      <td>101.28</td>\n",
       "      <td>25.55</td>\n",
       "    </tr>\n",
       "    <tr>\n",
       "      <th>549</th>\n",
       "      <td>3.75</td>\n",
       "      <td>2.75</td>\n",
       "      <td>1983</td>\n",
       "      <td>7</td>\n",
       "      <td>5</td>\n",
       "      <td>76.86</td>\n",
       "      <td>101.30</td>\n",
       "      <td>25.49</td>\n",
       "    </tr>\n",
       "  </tbody>\n",
       "</table>\n",
       "</div>"
      ],
      "text/plain": [
       "      LAT   LON  YEAR  MO  DY   RH2M      PS    T2M\n",
       "545  3.75  2.75  1983   7   1  76.96  101.43  25.36\n",
       "546  3.75  2.75  1983   7   2  79.74  101.31  25.38\n",
       "547  3.75  2.75  1983   7   3  80.32  101.27  25.42\n",
       "548  3.75  2.75  1983   7   4  78.98  101.28  25.55\n",
       "549  3.75  2.75  1983   7   5  76.86  101.30  25.49"
      ]
     },
     "execution_count": 8,
     "metadata": {},
     "output_type": "execute_result"
    }
   ],
   "source": [
    "train_processed.head()"
   ]
  },
  {
   "cell_type": "markdown",
   "metadata": {},
   "source": [
    "### Building the KFold XGBoost Model"
   ]
  },
  {
   "cell_type": "code",
   "execution_count": null,
   "metadata": {
    "colab": {},
    "colab_type": "code",
    "id": "ERcROxRtfPTE"
   },
   "outputs": [],
   "source": [
    "'''\n",
    "clf = lgb.LGBMRegressor(\n",
    "    \n",
    "                         n_estimators = 1000,\n",
    "                         objective ='regression',\n",
    "       \n",
    "\n",
    "                        )\n",
    "time_now = time()\n",
    "clf.fit(X_train, y_train, eval_metric=\"rmse\", early_stopping_rounds=100,  \n",
    "                    eval_set=[(X_train, y_train), (X_test, y_test)],verbose=True)\n",
    "time_new = time()\n",
    "training_duration = time_new - time_now\n",
    "print(f\"Total Training time: {training_duration:.3f} seconds\")\n",
    "'''"
   ]
  },
  {
   "cell_type": "code",
   "execution_count": null,
   "metadata": {},
   "outputs": [],
   "source": [
    "'''\n",
    "\n",
    "X_train, X_test, y_train, y_test = train_test_split(train_processed, y, \n",
    "                                                    test_size = 0.2,random_state = 1)\n",
    "\n",
    "clf = xgb.XGBRegressor(\n",
    "                            \n",
    "                        n_estimators=100,\n",
    "                        min_child_weight = 2,\n",
    "                        max_depth=6,\n",
    "                        verbosity = 1,\n",
    "                        n_jobs=8,                                              \n",
    "                        scale_pos_weight=1.025,\n",
    "                        tree_method='exact',\n",
    "                        objective = 'reg:squarederror',\n",
    "                        predictor='cpu_predictor',\n",
    "                        colsample_bytree = 0.66,\n",
    "                        subsample = 1,\n",
    "                        gamma = 0,\n",
    "                        learning_rate=0.15,\n",
    "                        num_parallel_tree = 1,    \n",
    "                       )\n",
    "    \n",
    "  \n",
    "clf.fit(X_train, y_train, eval_metric=\"rmse\", early_stopping_rounds=50,\n",
    "                eval_set=[(X_train, y_train), (X_test, y_test)],verbose=True) \n",
    "'''"
   ]
  },
  {
   "cell_type": "code",
   "execution_count": null,
   "metadata": {
    "scrolled": true
   },
   "outputs": [],
   "source": [
    "n_fold = 5\n",
    "random_state = 999\n",
    "kf = KFold(n_splits = n_fold , shuffle = True, random_state = random_state)\n",
    "\n",
    "models = []\n",
    "train_no = 1\n",
    "training_cycle = 10000\n",
    "for train_index, val_index in kf.split(train_processed, y):\n",
    "    train_X = train_processed.iloc[train_index]\n",
    "    val_X = train_processed.iloc[val_index]\n",
    "    train_y = y[train_index]\n",
    "    val_y = y[val_index]\n",
    "    \n",
    "    \n",
    "    clf = xgb.XGBRegressor(\n",
    "                            \n",
    "                        n_estimators= training_cycle,\n",
    "                        min_child_weight = 2,\n",
    "                        max_depth=6,\n",
    "                        verbosity = 1,\n",
    "                        n_jobs=8,                                              \n",
    "                        scale_pos_weight=1.025,\n",
    "                        tree_method='gpu_exact',\n",
    "                        objective = 'reg:squarederror',\n",
    "                        predictor='gpu_predictor',\n",
    "                        colsample_bytree = 0.66,\n",
    "                        subsample = 1,\n",
    "                        gamma = 0,\n",
    "                        learning_rate=0.15,\n",
    "                        num_parallel_tree = 1,    \n",
    "                       )\n",
    "    \n",
    "\n",
    "    clf.fit(train_X, train_y, eval_metric=\"rmse\", early_stopping_rounds=50,\n",
    "                eval_set=[(train_X, train_y), (val_X, val_y)],verbose=True)\n",
    "    \n",
    "    models.append(clf)"
   ]
  },
  {
   "cell_type": "code",
   "execution_count": null,
   "metadata": {},
   "outputs": [],
   "source": [
    "model_1_valid_rmse = models[1].evals_result()['validation_1']['rmse']\n",
    "model_1_train_rmse = models[1].evals_result()['validation_0']['rmse']\n",
    "\n",
    "import matplotlib.pyplot as plt\n",
    "\n",
    "df = pd.DataFrame({'training cycle': range(0,training_cycle,1), \n",
    "                 'train_set':model_1_train_rmse,\n",
    "                  'test_set':model_1_valid_rmse})\n",
    "\n",
    "plt.figure(figsize=(20,20))\n",
    "\n",
    "plt.plot( 'training cycle', 'train_set','bo-', data=df)\n",
    "plt.plot( 'training cycle', 'test_set', 'ro-',data=df)\n",
    "\n",
    "\n",
    "plt.title(\"RMSE error vs Training Cycle\", fontsize =20, pad = 20)\n",
    "plt.xlabel('Number of Training cycle',fontsize = 15, labelpad = 20)\n",
    "plt.ylabel('RMSE', fontsize = 15, labelpad = 20)\n",
    "plt.xticks(fontsize=14)\n",
    "plt.yticks(fontsize=14)\n",
    "\n",
    "plt.legend(loc='upper left')\n",
    "plt.grid(color='g', linestyle='-', linewidth=0.5)\n",
    "plt.show()"
   ]
  },
  {
   "cell_type": "markdown",
   "metadata": {},
   "source": [
    "### Input your Location, time of the year and weather information here"
   ]
  },
  {
   "cell_type": "code",
   "execution_count": null,
   "metadata": {
    "colab": {},
    "colab_type": "code",
    "id": "h7N0snARVnSD"
   },
   "outputs": [],
   "source": [
    "# input the test information here!!\n",
    "test_dict = {'LAT': 9 , 'LON': 7, 'YEAR':2019, 'MO': 7, 'DY':2,'RH2M': 50, 'PS': 100, 'T2M':23}"
   ]
  },
  {
   "cell_type": "code",
   "execution_count": null,
   "metadata": {
    "colab": {},
    "colab_type": "code",
    "id": "4aZHSSlcpU8x"
   },
   "outputs": [],
   "source": [
    "test_df = pd.DataFrame([test_dict])\n",
    "test_df= test_df[['LAT', 'LON', 'YEAR', 'MO', 'DY', 'RH2M', 'PS', 'T2M']]\n",
    "pred_df = sum([clf.predict(test_df) for clf in models])/5.0\n",
    "pred_value = abs(pred_df[0])\n"
   ]
  },
  {
   "cell_type": "code",
   "execution_count": null,
   "metadata": {
    "colab": {},
    "colab_type": "code",
    "id": "nx-HEUCjwCTa"
   },
   "outputs": [],
   "source": [
    "print(f'The predicted All Sky Insolation on a horizontal surface for Your specified location is {pred_value:.4f} KWh per square meter per day')"
   ]
  },
  {
   "cell_type": "markdown",
   "metadata": {},
   "source": [
    "## Save the Model"
   ]
  },
  {
   "cell_type": "code",
   "execution_count": null,
   "metadata": {},
   "outputs": [],
   "source": [
    "clf_no =0\n",
    "for clf in models:\n",
    "    pickle.dump(clf, open(f\"XGBoost_KFold_GPU_model_{clf_no}.dat\", \"wb\"))\n",
    "    clf_no+=1"
   ]
  },
  {
   "cell_type": "code",
   "execution_count": null,
   "metadata": {},
   "outputs": [],
   "source": [
    "# Load the model\n",
    "#loaded_model = pickle.load(open(filename, 'rb'))"
   ]
  }
 ],
 "metadata": {
  "colab": {
   "name": "Energy Model.ipynb",
   "provenance": []
  },
  "kernelspec": {
   "display_name": "Python 3",
   "language": "python",
   "name": "python3"
  },
  "language_info": {
   "codemirror_mode": {
    "name": "ipython",
    "version": 3
   },
   "file_extension": ".py",
   "mimetype": "text/x-python",
   "name": "python",
   "nbconvert_exporter": "python",
   "pygments_lexer": "ipython3",
   "version": "3.6.8"
  }
 },
 "nbformat": 4,
 "nbformat_minor": 1
}
