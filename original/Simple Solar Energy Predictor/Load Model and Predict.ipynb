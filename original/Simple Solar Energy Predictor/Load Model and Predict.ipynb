{
 "cells": [
  {
   "cell_type": "code",
   "execution_count": 1,
   "metadata": {},
   "outputs": [],
   "source": [
    "import pandas as pd\n",
    "import pickle\n",
    "import numpy as np\n",
    "from sklearn import preprocessing\n",
    "import matplotlib.pyplot as plt\n",
    "from sklearn.model_selection import KFold,train_test_split\n",
    "from sklearn.model_selection import TimeSeriesSplit,KFold, StratifiedKFold\n",
    "import lightgbm as lgb\n",
    "import xgboost as xgb\n",
    "from time import time"
   ]
  },
  {
   "cell_type": "code",
   "execution_count": 2,
   "metadata": {},
   "outputs": [],
   "source": [
    "import pickle\n",
    "# Load the model\n",
    "models = []\n",
    "for i in range(5):\n",
    "    clf = pickle.load(open(f\"XGBoost_KFold_GPU_model_{i}.dat\", 'rb'))\n",
    "    models.append(clf)"
   ]
  },
  {
   "cell_type": "code",
   "execution_count": 47,
   "metadata": {},
   "outputs": [],
   "source": [
    "# input the test information here!!\n",
    "test_dict = {'LAT': 4.5 , 'LON': 6, 'YEAR':2019, 'MO': 7, 'DY':2,'RH2M': 50, 'PS': 100, 'T2M':23}"
   ]
  },
  {
   "cell_type": "code",
   "execution_count": 48,
   "metadata": {},
   "outputs": [],
   "source": [
    "test_df = pd.DataFrame([test_dict])\n",
    "test_df= test_df[['LAT', 'LON', 'YEAR', 'MO', 'DY', 'RH2M', 'PS', 'T2M']]\n",
    "pred_df = sum([clf.predict(test_df) for clf in models])/5.0\n",
    "pred_value = abs(pred_df[0])"
   ]
  },
  {
   "cell_type": "code",
   "execution_count": 49,
   "metadata": {},
   "outputs": [
    {
     "name": "stdout",
     "output_type": "stream",
     "text": [
      "The predicted All Sky Insolation on a horizontal surface for Your specified location is 3.2137 KWh per square meter per day\n"
     ]
    }
   ],
   "source": [
    "print(f'The predicted All Sky Insolation on a horizontal surface for Your specified location is \\\n",
    "{pred_value:.4f} KWh per square meter per day')"
   ]
  }
 ],
 "metadata": {
  "kernelspec": {
   "display_name": "Python 3",
   "language": "python",
   "name": "python3"
  },
  "language_info": {
   "codemirror_mode": {
    "name": "ipython",
    "version": 3
   },
   "file_extension": ".py",
   "mimetype": "text/x-python",
   "name": "python",
   "nbconvert_exporter": "python",
   "pygments_lexer": "ipython3",
   "version": "3.6.8"
  }
 },
 "nbformat": 4,
 "nbformat_minor": 2
}
