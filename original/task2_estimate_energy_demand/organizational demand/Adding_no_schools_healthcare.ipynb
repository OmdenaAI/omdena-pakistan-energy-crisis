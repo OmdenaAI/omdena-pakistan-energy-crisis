{
 "cells": [
  {
   "cell_type": "code",
   "execution_count": 172,
   "metadata": {},
   "outputs": [],
   "source": [
    "import pandas as pd\n",
    "import geopandas as gpd\n",
    "import numpy as np\n",
    "import shapely\n",
    "from tqdm import tqdm\n",
    "\n",
    "pd.set_option('display.max_rows',500)"
   ]
  },
  {
   "cell_type": "markdown",
   "metadata": {},
   "source": [
    "# Import Org demand"
   ]
  },
  {
   "cell_type": "code",
   "execution_count": 2,
   "metadata": {},
   "outputs": [],
   "source": [
    "df = gpd.read_file('OrgDemand.csv')"
   ]
  },
  {
   "cell_type": "markdown",
   "metadata": {},
   "source": [
    "## Get geometry"
   ]
  },
  {
   "cell_type": "code",
   "execution_count": 3,
   "metadata": {},
   "outputs": [],
   "source": [
    "gdf = gpd.GeoDataFrame(\n",
    "    df, geometry=gpd.points_from_xy(df.lon.astype('float64'), df.lat.astype('float64')))"
   ]
  },
  {
   "cell_type": "code",
   "execution_count": 4,
   "metadata": {},
   "outputs": [
    {
     "data": {
      "text/html": [
       "<div>\n",
       "<style scoped>\n",
       "    .dataframe tbody tr th:only-of-type {\n",
       "        vertical-align: middle;\n",
       "    }\n",
       "\n",
       "    .dataframe tbody tr th {\n",
       "        vertical-align: top;\n",
       "    }\n",
       "\n",
       "    .dataframe thead th {\n",
       "        text-align: right;\n",
       "    }\n",
       "</style>\n",
       "<table border=\"1\" class=\"dataframe\">\n",
       "  <thead>\n",
       "    <tr style=\"text-align: right;\">\n",
       "      <th></th>\n",
       "      <th>type</th>\n",
       "      <th>name</th>\n",
       "      <th>state</th>\n",
       "      <th>lat</th>\n",
       "      <th>lon</th>\n",
       "      <th>geometry</th>\n",
       "    </tr>\n",
       "  </thead>\n",
       "  <tbody>\n",
       "    <tr>\n",
       "      <th>0</th>\n",
       "      <td>healthcare</td>\n",
       "      <td>State Fire service</td>\n",
       "      <td>Abia</td>\n",
       "      <td>5.1137</td>\n",
       "      <td>7.3761</td>\n",
       "      <td>POINT (7.37610 5.11370)</td>\n",
       "    </tr>\n",
       "    <tr>\n",
       "      <th>1</th>\n",
       "      <td>healthcare</td>\n",
       "      <td>Still Waters Ambulance Services</td>\n",
       "      <td>Abia</td>\n",
       "      <td>5.4558</td>\n",
       "      <td>7.8828</td>\n",
       "      <td>POINT (7.88280 5.45580)</td>\n",
       "    </tr>\n",
       "    <tr>\n",
       "      <th>2</th>\n",
       "      <td>healthcare</td>\n",
       "      <td>NASA Ambulance Services</td>\n",
       "      <td>Abia</td>\n",
       "      <td>5.7643</td>\n",
       "      <td>7.6726</td>\n",
       "      <td>POINT (7.67260 5.76430)</td>\n",
       "    </tr>\n",
       "    <tr>\n",
       "      <th>3</th>\n",
       "      <td>healthcare</td>\n",
       "      <td>Allied Mortuary and Funeral Services</td>\n",
       "      <td>Abia</td>\n",
       "      <td>5.1613</td>\n",
       "      <td>7.3294</td>\n",
       "      <td>POINT (7.32940 5.16130)</td>\n",
       "    </tr>\n",
       "    <tr>\n",
       "      <th>4</th>\n",
       "      <td>healthcare</td>\n",
       "      <td>Paradise Ambulance</td>\n",
       "      <td>Abia</td>\n",
       "      <td>5.0286</td>\n",
       "      <td>7.3155</td>\n",
       "      <td>POINT (7.31550 5.02860)</td>\n",
       "    </tr>\n",
       "  </tbody>\n",
       "</table>\n",
       "</div>"
      ],
      "text/plain": [
       "         type                                  name state     lat     lon  \\\n",
       "0  healthcare                    State Fire service  Abia  5.1137  7.3761   \n",
       "1  healthcare       Still Waters Ambulance Services  Abia  5.4558  7.8828   \n",
       "2  healthcare               NASA Ambulance Services  Abia  5.7643  7.6726   \n",
       "3  healthcare  Allied Mortuary and Funeral Services  Abia  5.1613  7.3294   \n",
       "4  healthcare                    Paradise Ambulance  Abia  5.0286  7.3155   \n",
       "\n",
       "                  geometry  \n",
       "0  POINT (7.37610 5.11370)  \n",
       "1  POINT (7.88280 5.45580)  \n",
       "2  POINT (7.67260 5.76430)  \n",
       "3  POINT (7.32940 5.16130)  \n",
       "4  POINT (7.31550 5.02860)  "
      ]
     },
     "execution_count": 4,
     "metadata": {},
     "output_type": "execute_result"
    }
   ],
   "source": [
    "gdf.head()"
   ]
  },
  {
   "cell_type": "code",
   "execution_count": 5,
   "metadata": {},
   "outputs": [],
   "source": [
    "vc = gdf['geometry'].astype('str').value_counts()\n",
    "dupl = vc[vc>1].index.tolist()"
   ]
  },
  {
   "cell_type": "code",
   "execution_count": 6,
   "metadata": {},
   "outputs": [],
   "source": [
    "gdf['geometry_str'] = gdf['geometry'].astype('str')"
   ]
  },
  {
   "cell_type": "code",
   "execution_count": 7,
   "metadata": {},
   "outputs": [
    {
     "data": {
      "text/plain": [
       "(148975,)"
      ]
     },
     "execution_count": 7,
     "metadata": {},
     "output_type": "execute_result"
    }
   ],
   "source": [
    "vc.shape"
   ]
  },
  {
   "cell_type": "markdown",
   "metadata": {},
   "source": [
    "We have ca. 150k unique points for ca 260k organisations."
   ]
  },
  {
   "cell_type": "code",
   "execution_count": 8,
   "metadata": {},
   "outputs": [
    {
     "data": {
      "text/plain": [
       "(259345, 7)"
      ]
     },
     "execution_count": 8,
     "metadata": {},
     "output_type": "execute_result"
    }
   ],
   "source": [
    "gdf.shape"
   ]
  },
  {
   "cell_type": "code",
   "execution_count": 10,
   "metadata": {},
   "outputs": [
    {
     "name": "stderr",
     "output_type": "stream",
     "text": [
      "100%|████████████████████████████████████████████████████████████████████████| 148975/148975 [5:34:55<00:00,  7.41it/s]\n"
     ]
    }
   ],
   "source": [
    "# for every point\n",
    "df_unique = pd.DataFrame()\n",
    "for point in tqdm(vc.index):\n",
    "    # get all data with the same point coordinates\n",
    "    filter_duplicate = gdf['geometry_str'] == point\n",
    "    temp = gdf.loc[filter_duplicate,:].drop_duplicates(keep='first',subset = ['name'])\n",
    "    df_unique = pd.concat([df_unique,temp],axis=0,sort=False)"
   ]
  },
  {
   "cell_type": "code",
   "execution_count": 13,
   "metadata": {},
   "outputs": [],
   "source": [
    "df_unique.to_csv('OrgDemand_unique.csv')"
   ]
  },
  {
   "cell_type": "markdown",
   "metadata": {},
   "source": [
    "# df_unique to gdf"
   ]
  },
  {
   "cell_type": "code",
   "execution_count": 14,
   "metadata": {},
   "outputs": [
    {
     "data": {
      "text/plain": [
       "['type', 'name', 'state', 'lat', 'lon', 'geometry', 'geometry_str']"
      ]
     },
     "execution_count": 14,
     "metadata": {},
     "output_type": "execute_result"
    }
   ],
   "source": [
    "df_unique.columns.tolist()"
   ]
  },
  {
   "cell_type": "code",
   "execution_count": 20,
   "metadata": {},
   "outputs": [],
   "source": [
    "gdf = gpd.GeoDataFrame(\n",
    "    df_unique.drop(labels = ['geometry','geometry_str'],axis=1), geometry=gpd.points_from_xy(df_unique.lon.astype('float64'), df_unique.lat.astype('float64')))"
   ]
  },
  {
   "cell_type": "code",
   "execution_count": 21,
   "metadata": {},
   "outputs": [
    {
     "data": {
      "text/html": [
       "<div>\n",
       "<style scoped>\n",
       "    .dataframe tbody tr th:only-of-type {\n",
       "        vertical-align: middle;\n",
       "    }\n",
       "\n",
       "    .dataframe tbody tr th {\n",
       "        vertical-align: top;\n",
       "    }\n",
       "\n",
       "    .dataframe thead th {\n",
       "        text-align: right;\n",
       "    }\n",
       "</style>\n",
       "<table border=\"1\" class=\"dataframe\">\n",
       "  <thead>\n",
       "    <tr style=\"text-align: right;\">\n",
       "      <th></th>\n",
       "      <th>type</th>\n",
       "      <th>name</th>\n",
       "      <th>state</th>\n",
       "      <th>lat</th>\n",
       "      <th>lon</th>\n",
       "      <th>geometry</th>\n",
       "    </tr>\n",
       "  </thead>\n",
       "  <tbody>\n",
       "    <tr>\n",
       "      <th>171366</th>\n",
       "      <td>school</td>\n",
       "      <td>Delsit Nursery and Primary School</td>\n",
       "      <td>Lagos</td>\n",
       "      <td>6.5187</td>\n",
       "      <td>3.3342</td>\n",
       "      <td>POINT (3.33420 6.51870)</td>\n",
       "    </tr>\n",
       "  </tbody>\n",
       "</table>\n",
       "</div>"
      ],
      "text/plain": [
       "          type                               name  state     lat     lon  \\\n",
       "171366  school  Delsit Nursery and Primary School  Lagos  6.5187  3.3342   \n",
       "\n",
       "                       geometry  \n",
       "171366  POINT (3.33420 6.51870)  "
      ]
     },
     "execution_count": 21,
     "metadata": {},
     "output_type": "execute_result"
    }
   ],
   "source": [
    "gdf.sample()"
   ]
  },
  {
   "cell_type": "markdown",
   "metadata": {},
   "source": [
    "# 1 km clusters"
   ]
  },
  {
   "cell_type": "markdown",
   "metadata": {},
   "source": [
    "## Load files"
   ]
  },
  {
   "cell_type": "code",
   "execution_count": 48,
   "metadata": {},
   "outputs": [],
   "source": [
    "clust = pd.read_excel('D:/Google Drive/01 Data/12 Omdena/Repo/clusters_1km/clusters.xlsx')"
   ]
  },
  {
   "cell_type": "code",
   "execution_count": 49,
   "metadata": {},
   "outputs": [
    {
     "data": {
      "text/html": [
       "<div>\n",
       "<style scoped>\n",
       "    .dataframe tbody tr th:only-of-type {\n",
       "        vertical-align: middle;\n",
       "    }\n",
       "\n",
       "    .dataframe tbody tr th {\n",
       "        vertical-align: top;\n",
       "    }\n",
       "\n",
       "    .dataframe thead th {\n",
       "        text-align: right;\n",
       "    }\n",
       "</style>\n",
       "<table border=\"1\" class=\"dataframe\">\n",
       "  <thead>\n",
       "    <tr style=\"text-align: right;\">\n",
       "      <th></th>\n",
       "      <th>label</th>\n",
       "      <th>population</th>\n",
       "      <th>area</th>\n",
       "      <th>density</th>\n",
       "      <th>address</th>\n",
       "      <th>address0</th>\n",
       "      <th>geolocator</th>\n",
       "      <th>label_out</th>\n",
       "      <th>geometry</th>\n",
       "      <th>centroid</th>\n",
       "      <th>ongrid</th>\n",
       "      <th>adm1</th>\n",
       "      <th>adm2</th>\n",
       "      <th>score</th>\n",
       "      <th>pred_solar</th>\n",
       "      <th>org</th>\n",
       "      <th>No. healthcare units</th>\n",
       "      <th>No. school units</th>\n",
       "    </tr>\n",
       "  </thead>\n",
       "  <tbody>\n",
       "    <tr>\n",
       "      <th>171</th>\n",
       "      <td>863</td>\n",
       "      <td>4081</td>\n",
       "      <td>0</td>\n",
       "      <td>6887</td>\n",
       "      <td>Tunga Bombo, 871, Kebbi, Nigeria</td>\n",
       "      <td>Tunga Bombo</td>\n",
       "      <td>Photon</td>\n",
       "      <td>863-Tunga Bombo=4,081</td>\n",
       "      <td>POLYGON ((4.180833331248492 11.35250015587251,...</td>\n",
       "      <td>POINT (4.181414139326963 11.35675520636046)</td>\n",
       "      <td>0</td>\n",
       "      <td>Kebbi</td>\n",
       "      <td>Bagudo</td>\n",
       "      <td>6887</td>\n",
       "      <td>5.839046</td>\n",
       "      <td>['Tuga Health Clinic', 'Tuga Primary School', ...</td>\n",
       "      <td>1</td>\n",
       "      <td>2</td>\n",
       "    </tr>\n",
       "  </tbody>\n",
       "</table>\n",
       "</div>"
      ],
      "text/plain": [
       "     label  population  area  density                           address  \\\n",
       "171    863        4081     0     6887  Tunga Bombo, 871, Kebbi, Nigeria   \n",
       "\n",
       "        address0 geolocator              label_out  \\\n",
       "171  Tunga Bombo     Photon  863-Tunga Bombo=4,081   \n",
       "\n",
       "                                              geometry  \\\n",
       "171  POLYGON ((4.180833331248492 11.35250015587251,...   \n",
       "\n",
       "                                        centroid  ongrid   adm1    adm2  \\\n",
       "171  POINT (4.181414139326963 11.35675520636046)       0  Kebbi  Bagudo   \n",
       "\n",
       "     score  pred_solar                                                org  \\\n",
       "171   6887    5.839046  ['Tuga Health Clinic', 'Tuga Primary School', ...   \n",
       "\n",
       "     No. healthcare units  No. school units  \n",
       "171                     1                 2  "
      ]
     },
     "execution_count": 49,
     "metadata": {},
     "output_type": "execute_result"
    }
   ],
   "source": [
    "clust.sample()"
   ]
  },
  {
   "cell_type": "code",
   "execution_count": 50,
   "metadata": {},
   "outputs": [],
   "source": [
    "def get_num_schools_healthcare(row,gdf):\n",
    "    \"\"\"get number of schools/healthcare units per cluster\"\"\"\n",
    "    \n",
    "    poly = poly = shapely.wkt.loads(row['geometry'])\n",
    "    \n",
    "    row['No. healthcare units'] = gdf.loc[gdf['type']=='healthcare',:].within(poly).sum()\n",
    "    row['No. school units'] = gdf.loc[gdf['type']=='school',:].within(poly).sum()\n",
    "    \n",
    "    return row"
   ]
  },
  {
   "cell_type": "markdown",
   "metadata": {},
   "source": [
    "# Apply per row"
   ]
  },
  {
   "cell_type": "code",
   "execution_count": 51,
   "metadata": {},
   "outputs": [
    {
     "name": "stderr",
     "output_type": "stream",
     "text": [
      "D:\\Anaconda\\lib\\site-packages\\tqdm\\std.py:648: FutureWarning: The Panel class is removed from pandas. Accessing it from the top-level namespace will also be removed in the next version\n",
      "  from pandas import Panel\n",
      "100%|██████████████████████████████████████████████████████████████████████████████| 2119/2119 [52:04<00:00,  1.47s/it]\n"
     ]
    }
   ],
   "source": [
    "tqdm.pandas() # to be able to see the progress of the apply function\n",
    "clust_new = clust.progress_apply(get_num_schools_healthcare,gdf = gdf, axis=1)"
   ]
  },
  {
   "cell_type": "code",
   "execution_count": 52,
   "metadata": {},
   "outputs": [
    {
     "data": {
      "text/html": [
       "<div>\n",
       "<style scoped>\n",
       "    .dataframe tbody tr th:only-of-type {\n",
       "        vertical-align: middle;\n",
       "    }\n",
       "\n",
       "    .dataframe tbody tr th {\n",
       "        vertical-align: top;\n",
       "    }\n",
       "\n",
       "    .dataframe thead th {\n",
       "        text-align: right;\n",
       "    }\n",
       "</style>\n",
       "<table border=\"1\" class=\"dataframe\">\n",
       "  <thead>\n",
       "    <tr style=\"text-align: right;\">\n",
       "      <th></th>\n",
       "      <th>label</th>\n",
       "      <th>population</th>\n",
       "      <th>area</th>\n",
       "      <th>density</th>\n",
       "      <th>address</th>\n",
       "      <th>address0</th>\n",
       "      <th>geolocator</th>\n",
       "      <th>label_out</th>\n",
       "      <th>geometry</th>\n",
       "      <th>centroid</th>\n",
       "      <th>ongrid</th>\n",
       "      <th>adm1</th>\n",
       "      <th>adm2</th>\n",
       "      <th>score</th>\n",
       "      <th>pred_solar</th>\n",
       "      <th>org</th>\n",
       "      <th>No. healthcare units</th>\n",
       "      <th>No. school units</th>\n",
       "    </tr>\n",
       "  </thead>\n",
       "  <tbody>\n",
       "    <tr>\n",
       "      <th>1575</th>\n",
       "      <td>471</td>\n",
       "      <td>5832</td>\n",
       "      <td>0</td>\n",
       "      <td>14450</td>\n",
       "      <td>Gumawa Health Post, Kano-Gumel Road, 187, Kano...</td>\n",
       "      <td>Gumawa Health Post</td>\n",
       "      <td>Photon</td>\n",
       "      <td>471-Gumawa Health Post=5,832</td>\n",
       "      <td>POLYGON ((8.862499979075452 12.13500015272787,...</td>\n",
       "      <td>POINT (8.862964722663317 12.13839758861167)</td>\n",
       "      <td>1</td>\n",
       "      <td>Kano</td>\n",
       "      <td>Gabasawa</td>\n",
       "      <td>0</td>\n",
       "      <td>5.826171</td>\n",
       "      <td>['Gumawa Health Post', 'Madaki Gumawa Islamiyy...</td>\n",
       "      <td>1</td>\n",
       "      <td>2</td>\n",
       "    </tr>\n",
       "  </tbody>\n",
       "</table>\n",
       "</div>"
      ],
      "text/plain": [
       "      label  population  area  density  \\\n",
       "1575    471        5832     0    14450   \n",
       "\n",
       "                                                address            address0  \\\n",
       "1575  Gumawa Health Post, Kano-Gumel Road, 187, Kano...  Gumawa Health Post   \n",
       "\n",
       "     geolocator                     label_out  \\\n",
       "1575     Photon  471-Gumawa Health Post=5,832   \n",
       "\n",
       "                                               geometry  \\\n",
       "1575  POLYGON ((8.862499979075452 12.13500015272787,...   \n",
       "\n",
       "                                         centroid  ongrid  adm1      adm2  \\\n",
       "1575  POINT (8.862964722663317 12.13839758861167)       1  Kano  Gabasawa   \n",
       "\n",
       "      score  pred_solar                                                org  \\\n",
       "1575      0    5.826171  ['Gumawa Health Post', 'Madaki Gumawa Islamiyy...   \n",
       "\n",
       "      No. healthcare units  No. school units  \n",
       "1575                     1                 2  "
      ]
     },
     "execution_count": 52,
     "metadata": {},
     "output_type": "execute_result"
    }
   ],
   "source": [
    "clust_new.sample()"
   ]
  },
  {
   "cell_type": "markdown",
   "metadata": {},
   "source": [
    "## Check results"
   ]
  },
  {
   "cell_type": "markdown",
   "metadata": {},
   "source": [
    "### Clusters without organisation names, but no. schools or healthcare > 0"
   ]
  },
  {
   "cell_type": "code",
   "execution_count": 71,
   "metadata": {},
   "outputs": [],
   "source": [
    "# Check clusters without organisation names, but with positive no. schools or healthcare\n",
    "filter_no_org = (clust_new.loc[clust_new['org'].isna(),:][['No. healthcare units','No. school units']].sum(axis=1)>1)\n",
    "no_org_index = filter_no_org.replace(False,np.nan).dropna().index"
   ]
  },
  {
   "cell_type": "code",
   "execution_count": 95,
   "metadata": {},
   "outputs": [],
   "source": [
    "def get_org_names(row,gdf):\n",
    "    poly = shapely.wkt.loads(row['geometry'])\n",
    "\n",
    "    row['org names'] = gdf.loc[gdf.within(poly),'name'].tolist()\n",
    "    return row"
   ]
  },
  {
   "cell_type": "code",
   "execution_count": 101,
   "metadata": {},
   "outputs": [
    {
     "data": {
      "text/html": [
       "<div>\n",
       "<style scoped>\n",
       "    .dataframe tbody tr th:only-of-type {\n",
       "        vertical-align: middle;\n",
       "    }\n",
       "\n",
       "    .dataframe tbody tr th {\n",
       "        vertical-align: top;\n",
       "    }\n",
       "\n",
       "    .dataframe thead th {\n",
       "        text-align: right;\n",
       "    }\n",
       "</style>\n",
       "<table border=\"1\" class=\"dataframe\">\n",
       "  <thead>\n",
       "    <tr style=\"text-align: right;\">\n",
       "      <th></th>\n",
       "      <th>label</th>\n",
       "      <th>population</th>\n",
       "      <th>area</th>\n",
       "      <th>density</th>\n",
       "      <th>address</th>\n",
       "      <th>address0</th>\n",
       "      <th>geolocator</th>\n",
       "      <th>label_out</th>\n",
       "      <th>geometry</th>\n",
       "      <th>centroid</th>\n",
       "      <th>ongrid</th>\n",
       "      <th>adm1</th>\n",
       "      <th>adm2</th>\n",
       "      <th>score</th>\n",
       "      <th>pred_solar</th>\n",
       "      <th>org</th>\n",
       "      <th>No. healthcare units</th>\n",
       "      <th>No. school units</th>\n",
       "      <th>org names</th>\n",
       "    </tr>\n",
       "  </thead>\n",
       "  <tbody>\n",
       "    <tr>\n",
       "      <th>39</th>\n",
       "      <td>306</td>\n",
       "      <td>4419</td>\n",
       "      <td>0</td>\n",
       "      <td>11435</td>\n",
       "      <td>Jerau, Jigawa, Nigeria</td>\n",
       "      <td>Jerau</td>\n",
       "      <td>Photon</td>\n",
       "      <td>306-Jerau=4,419</td>\n",
       "      <td>POLYGON ((10.31916663988028 12.45500015144188,...</td>\n",
       "      <td>POINT (10.31601446597992 12.45744580360597)</td>\n",
       "      <td>0</td>\n",
       "      <td>Bauchi</td>\n",
       "      <td>Zaki</td>\n",
       "      <td>11435</td>\n",
       "      <td>5.486398</td>\n",
       "      <td>NaN</td>\n",
       "      <td>0</td>\n",
       "      <td>3</td>\n",
       "      <td>[Baturiya Primary School, Isilamic Primary Sch...</td>\n",
       "    </tr>\n",
       "    <tr>\n",
       "      <th>57</th>\n",
       "      <td>1361</td>\n",
       "      <td>16071</td>\n",
       "      <td>1</td>\n",
       "      <td>10397</td>\n",
       "      <td>Dobi, Gwagwalada, Federal Capital Territory, N...</td>\n",
       "      <td>Dobi</td>\n",
       "      <td>Nominatim</td>\n",
       "      <td>1361-Dobi=16,071</td>\n",
       "      <td>POLYGON ((6.990833319940643 9.055833498435476,...</td>\n",
       "      <td>POINT (6.996237046626966 9.061884223048828)</td>\n",
       "      <td>0</td>\n",
       "      <td>Federal Capital Territory</td>\n",
       "      <td>Gwagwalada</td>\n",
       "      <td>10397</td>\n",
       "      <td>NaN</td>\n",
       "      <td>NaN</td>\n",
       "      <td>6</td>\n",
       "      <td>3</td>\n",
       "      <td>[Fad Victory Basic Accademy, LEA Primary Schoo...</td>\n",
       "    </tr>\n",
       "    <tr>\n",
       "      <th>91</th>\n",
       "      <td>287</td>\n",
       "      <td>6925</td>\n",
       "      <td>0</td>\n",
       "      <td>9010</td>\n",
       "      <td>Goronmaje, Kano, Nigeria</td>\n",
       "      <td>Goronmaje</td>\n",
       "      <td>Photon</td>\n",
       "      <td>287-Goronmaje=6,925</td>\n",
       "      <td>POLYGON ((8.690833313099597 12.52250015117062,...</td>\n",
       "      <td>POINT (8.690712345358138 12.52586036621089)</td>\n",
       "      <td>0</td>\n",
       "      <td>Jigawa</td>\n",
       "      <td>Babura</td>\n",
       "      <td>9010</td>\n",
       "      <td>6.281710</td>\n",
       "      <td>NaN</td>\n",
       "      <td>1</td>\n",
       "      <td>3</td>\n",
       "      <td>[Goronmaje Junior Secondary School, Goronmaje ...</td>\n",
       "    </tr>\n",
       "    <tr>\n",
       "      <th>132</th>\n",
       "      <td>1453</td>\n",
       "      <td>10554</td>\n",
       "      <td>1</td>\n",
       "      <td>7853</td>\n",
       "      <td>Wako, Federal Capital Territory, Nigeria</td>\n",
       "      <td>Wako</td>\n",
       "      <td>Photon</td>\n",
       "      <td>1453-Wako=10,554</td>\n",
       "      <td>POLYGON ((6.913333320252514 8.585833500324267,...</td>\n",
       "      <td>POINT (6.913862420779471 8.59841947910968)</td>\n",
       "      <td>0</td>\n",
       "      <td>Federal Capital Territory</td>\n",
       "      <td>Kwali</td>\n",
       "      <td>7853</td>\n",
       "      <td>NaN</td>\n",
       "      <td>NaN</td>\n",
       "      <td>1</td>\n",
       "      <td>2</td>\n",
       "      <td>[Junior Secondary School Wako, LEA Primary Sch...</td>\n",
       "    </tr>\n",
       "    <tr>\n",
       "      <th>136</th>\n",
       "      <td>808</td>\n",
       "      <td>7739</td>\n",
       "      <td>1</td>\n",
       "      <td>7670</td>\n",
       "      <td>Maruta, Jigawa, Nigeria</td>\n",
       "      <td>Maruta</td>\n",
       "      <td>Photon</td>\n",
       "      <td>808-Maruta=7,739</td>\n",
       "      <td>POLYGON ((9.862499975051307 11.45333348880062,...</td>\n",
       "      <td>POINT (9.864477886689922 11.45836360926234)</td>\n",
       "      <td>0</td>\n",
       "      <td>Bauchi</td>\n",
       "      <td>Shira</td>\n",
       "      <td>7670</td>\n",
       "      <td>5.486398</td>\n",
       "      <td>NaN</td>\n",
       "      <td>1</td>\n",
       "      <td>2</td>\n",
       "      <td>[Maruta Primary School, Government Day Junior ...</td>\n",
       "    </tr>\n",
       "  </tbody>\n",
       "</table>\n",
       "</div>"
      ],
      "text/plain": [
       "     label  population  area  density  \\\n",
       "39     306        4419     0    11435   \n",
       "57    1361       16071     1    10397   \n",
       "91     287        6925     0     9010   \n",
       "132   1453       10554     1     7853   \n",
       "136    808        7739     1     7670   \n",
       "\n",
       "                                               address   address0 geolocator  \\\n",
       "39                              Jerau, Jigawa, Nigeria      Jerau     Photon   \n",
       "57   Dobi, Gwagwalada, Federal Capital Territory, N...       Dobi  Nominatim   \n",
       "91                            Goronmaje, Kano, Nigeria  Goronmaje     Photon   \n",
       "132           Wako, Federal Capital Territory, Nigeria       Wako     Photon   \n",
       "136                            Maruta, Jigawa, Nigeria     Maruta     Photon   \n",
       "\n",
       "               label_out                                           geometry  \\\n",
       "39       306-Jerau=4,419  POLYGON ((10.31916663988028 12.45500015144188,...   \n",
       "57      1361-Dobi=16,071  POLYGON ((6.990833319940643 9.055833498435476,...   \n",
       "91   287-Goronmaje=6,925  POLYGON ((8.690833313099597 12.52250015117062,...   \n",
       "132     1453-Wako=10,554  POLYGON ((6.913333320252514 8.585833500324267,...   \n",
       "136     808-Maruta=7,739  POLYGON ((9.862499975051307 11.45333348880062,...   \n",
       "\n",
       "                                        centroid  ongrid  \\\n",
       "39   POINT (10.31601446597992 12.45744580360597)       0   \n",
       "57   POINT (6.996237046626966 9.061884223048828)       0   \n",
       "91   POINT (8.690712345358138 12.52586036621089)       0   \n",
       "132   POINT (6.913862420779471 8.59841947910968)       0   \n",
       "136  POINT (9.864477886689922 11.45836360926234)       0   \n",
       "\n",
       "                          adm1        adm2  score  pred_solar  org  \\\n",
       "39                      Bauchi        Zaki  11435    5.486398  NaN   \n",
       "57   Federal Capital Territory  Gwagwalada  10397         NaN  NaN   \n",
       "91                      Jigawa      Babura   9010    6.281710  NaN   \n",
       "132  Federal Capital Territory       Kwali   7853         NaN  NaN   \n",
       "136                     Bauchi       Shira   7670    5.486398  NaN   \n",
       "\n",
       "     No. healthcare units  No. school units  \\\n",
       "39                      0                 3   \n",
       "57                      6                 3   \n",
       "91                      1                 3   \n",
       "132                     1                 2   \n",
       "136                     1                 2   \n",
       "\n",
       "                                             org names  \n",
       "39   [Baturiya Primary School, Isilamic Primary Sch...  \n",
       "57   [Fad Victory Basic Accademy, LEA Primary Schoo...  \n",
       "91   [Goronmaje Junior Secondary School, Goronmaje ...  \n",
       "132  [Junior Secondary School Wako, LEA Primary Sch...  \n",
       "136  [Maruta Primary School, Government Day Junior ...  "
      ]
     },
     "execution_count": 101,
     "metadata": {},
     "output_type": "execute_result"
    }
   ],
   "source": [
    "clust_new.loc[no_org_index[:5],:].apply(get_org_names,gdf=gdf,axis=1)"
   ]
  },
  {
   "cell_type": "code",
   "execution_count": 97,
   "metadata": {},
   "outputs": [
    {
     "data": {
      "text/html": [
       "<div>\n",
       "<style scoped>\n",
       "    .dataframe tbody tr th:only-of-type {\n",
       "        vertical-align: middle;\n",
       "    }\n",
       "\n",
       "    .dataframe tbody tr th {\n",
       "        vertical-align: top;\n",
       "    }\n",
       "\n",
       "    .dataframe thead th {\n",
       "        text-align: right;\n",
       "    }\n",
       "</style>\n",
       "<table border=\"1\" class=\"dataframe\">\n",
       "  <thead>\n",
       "    <tr style=\"text-align: right;\">\n",
       "      <th></th>\n",
       "      <th>type</th>\n",
       "      <th>name</th>\n",
       "      <th>state</th>\n",
       "      <th>lat</th>\n",
       "      <th>lon</th>\n",
       "      <th>geometry</th>\n",
       "    </tr>\n",
       "  </thead>\n",
       "  <tbody>\n",
       "    <tr>\n",
       "      <th>29556</th>\n",
       "      <td>school</td>\n",
       "      <td>Baturiya Primary School</td>\n",
       "      <td>Bauchi</td>\n",
       "      <td>11.2875</td>\n",
       "      <td>10.2073</td>\n",
       "      <td>POINT (10.20730 11.28750)</td>\n",
       "    </tr>\n",
       "    <tr>\n",
       "      <th>107283</th>\n",
       "      <td>school</td>\n",
       "      <td>Baturiya Primary School</td>\n",
       "      <td>Jigawa</td>\n",
       "      <td>12.4558</td>\n",
       "      <td>10.3136</td>\n",
       "      <td>POINT (10.31360 12.45580)</td>\n",
       "    </tr>\n",
       "  </tbody>\n",
       "</table>\n",
       "</div>"
      ],
      "text/plain": [
       "          type                     name   state      lat      lon  \\\n",
       "29556   school  Baturiya Primary School  Bauchi  11.2875  10.2073   \n",
       "107283  school  Baturiya Primary School  Jigawa  12.4558  10.3136   \n",
       "\n",
       "                         geometry  \n",
       "29556   POINT (10.20730 11.28750)  \n",
       "107283  POINT (10.31360 12.45580)  "
      ]
     },
     "execution_count": 97,
     "metadata": {},
     "output_type": "execute_result"
    }
   ],
   "source": [
    "gdf.loc[gdf['name'] == 'Baturiya Primary School',:]"
   ]
  },
  {
   "cell_type": "markdown",
   "metadata": {},
   "source": [
    "So this is due to similar school names on different states."
   ]
  },
  {
   "cell_type": "markdown",
   "metadata": {},
   "source": [
    "### Clusters with exceptionaly large no. of schools / healthcare"
   ]
  },
  {
   "cell_type": "code",
   "execution_count": 149,
   "metadata": {},
   "outputs": [
    {
     "data": {
      "text/html": [
       "<div>\n",
       "<style scoped>\n",
       "    .dataframe tbody tr th:only-of-type {\n",
       "        vertical-align: middle;\n",
       "    }\n",
       "\n",
       "    .dataframe tbody tr th {\n",
       "        vertical-align: top;\n",
       "    }\n",
       "\n",
       "    .dataframe thead th {\n",
       "        text-align: right;\n",
       "    }\n",
       "</style>\n",
       "<table border=\"1\" class=\"dataframe\">\n",
       "  <thead>\n",
       "    <tr style=\"text-align: right;\">\n",
       "      <th></th>\n",
       "      <th>label</th>\n",
       "      <th>population</th>\n",
       "      <th>area</th>\n",
       "      <th>density</th>\n",
       "      <th>address</th>\n",
       "      <th>address0</th>\n",
       "      <th>geolocator</th>\n",
       "      <th>label_out</th>\n",
       "      <th>geometry</th>\n",
       "      <th>centroid</th>\n",
       "      <th>ongrid</th>\n",
       "      <th>adm1</th>\n",
       "      <th>adm2</th>\n",
       "      <th>score</th>\n",
       "      <th>pred_solar</th>\n",
       "      <th>org</th>\n",
       "      <th>No. healthcare units</th>\n",
       "      <th>No. school units</th>\n",
       "    </tr>\n",
       "  </thead>\n",
       "  <tbody>\n",
       "    <tr>\n",
       "      <th>1111</th>\n",
       "      <td>1990</td>\n",
       "      <td>4055</td>\n",
       "      <td>2</td>\n",
       "      <td>1988</td>\n",
       "      <td>Obeagu, Enugu, Nigeria</td>\n",
       "      <td>Obeagu</td>\n",
       "      <td>Photon</td>\n",
       "      <td>1990-Obeagu=4,055</td>\n",
       "      <td>POLYGON ((7.667499983884305 5.945000177603672,...</td>\n",
       "      <td>POINT (7.670822900537607 5.951786635909724)</td>\n",
       "      <td>0</td>\n",
       "      <td>Enugu</td>\n",
       "      <td>Aninri</td>\n",
       "      <td>1988</td>\n",
       "      <td>3.781085</td>\n",
       "      <td>['Cottage Hospital Okpanku', 'Rev Fr Cletus Ok...</td>\n",
       "      <td>1</td>\n",
       "      <td>7</td>\n",
       "    </tr>\n",
       "  </tbody>\n",
       "</table>\n",
       "</div>"
      ],
      "text/plain": [
       "      label  population  area  density                 address address0  \\\n",
       "1111   1990        4055     2     1988  Obeagu, Enugu, Nigeria   Obeagu   \n",
       "\n",
       "     geolocator          label_out  \\\n",
       "1111     Photon  1990-Obeagu=4,055   \n",
       "\n",
       "                                               geometry  \\\n",
       "1111  POLYGON ((7.667499983884305 5.945000177603672,...   \n",
       "\n",
       "                                         centroid  ongrid   adm1    adm2  \\\n",
       "1111  POINT (7.670822900537607 5.951786635909724)       0  Enugu  Aninri   \n",
       "\n",
       "      score  pred_solar                                                org  \\\n",
       "1111   1988    3.781085  ['Cottage Hospital Okpanku', 'Rev Fr Cletus Ok...   \n",
       "\n",
       "      No. healthcare units  No. school units  \n",
       "1111                     1                 7  "
      ]
     },
     "execution_count": 149,
     "metadata": {},
     "output_type": "execute_result"
    }
   ],
   "source": [
    "clust_new.sample()"
   ]
  },
  {
   "cell_type": "code",
   "execution_count": 151,
   "metadata": {},
   "outputs": [
    {
     "data": {
      "text/html": [
       "<div>\n",
       "<style scoped>\n",
       "    .dataframe tbody tr th:only-of-type {\n",
       "        vertical-align: middle;\n",
       "    }\n",
       "\n",
       "    .dataframe tbody tr th {\n",
       "        vertical-align: top;\n",
       "    }\n",
       "\n",
       "    .dataframe thead th {\n",
       "        text-align: right;\n",
       "    }\n",
       "</style>\n",
       "<table border=\"1\" class=\"dataframe\">\n",
       "  <thead>\n",
       "    <tr style=\"text-align: right;\">\n",
       "      <th></th>\n",
       "      <th>label</th>\n",
       "      <th>population</th>\n",
       "      <th>area</th>\n",
       "      <th>density</th>\n",
       "      <th>address</th>\n",
       "      <th>address0</th>\n",
       "      <th>geolocator</th>\n",
       "      <th>label_out</th>\n",
       "      <th>geometry</th>\n",
       "      <th>centroid</th>\n",
       "      <th>ongrid</th>\n",
       "      <th>adm1</th>\n",
       "      <th>adm2</th>\n",
       "      <th>score</th>\n",
       "      <th>pred_solar</th>\n",
       "      <th>org</th>\n",
       "      <th>No. healthcare units</th>\n",
       "      <th>No. school units</th>\n",
       "      <th>sum</th>\n",
       "      <th>Orgs/population</th>\n",
       "    </tr>\n",
       "  </thead>\n",
       "  <tbody>\n",
       "    <tr>\n",
       "      <th>1179</th>\n",
       "      <td>2080</td>\n",
       "      <td>4442</td>\n",
       "      <td>2</td>\n",
       "      <td>1870</td>\n",
       "      <td>Ndoro, Abia, Nigeria</td>\n",
       "      <td>Ndoro</td>\n",
       "      <td>Photon</td>\n",
       "      <td>2080-Ndoro=4,442</td>\n",
       "      <td>POLYGON ((7.571666650936619 5.428333513013337,...</td>\n",
       "      <td>POINT (7.566346785638176 5.439469876604948)</td>\n",
       "      <td>0</td>\n",
       "      <td>Abia</td>\n",
       "      <td>Ikwuano</td>\n",
       "      <td>1870</td>\n",
       "      <td>1.670673</td>\n",
       "      <td>['Faith Clinic Maternity', 'Ndoro Health Cente...</td>\n",
       "      <td>3</td>\n",
       "      <td>12</td>\n",
       "      <td>15</td>\n",
       "      <td>0.003377</td>\n",
       "    </tr>\n",
       "    <tr>\n",
       "      <th>1397</th>\n",
       "      <td>1858</td>\n",
       "      <td>8176</td>\n",
       "      <td>5</td>\n",
       "      <td>1412</td>\n",
       "      <td>Effium, Ebonyi, Nigeria</td>\n",
       "      <td>Effium</td>\n",
       "      <td>Photon</td>\n",
       "      <td>1858-Effium=8,176</td>\n",
       "      <td>POLYGON ((8.062499982294769 6.61916684156106, ...</td>\n",
       "      <td>POINT (8.058824271715256 6.631372913863443)</td>\n",
       "      <td>0</td>\n",
       "      <td>Ebonyi</td>\n",
       "      <td>Ohaukwu</td>\n",
       "      <td>1412</td>\n",
       "      <td>2.622899</td>\n",
       "      <td>['Sudan United Missions Hospital Effium', 'Vic...</td>\n",
       "      <td>5</td>\n",
       "      <td>22</td>\n",
       "      <td>27</td>\n",
       "      <td>0.003302</td>\n",
       "    </tr>\n",
       "    <tr>\n",
       "      <th>1482</th>\n",
       "      <td>1793</td>\n",
       "      <td>6654</td>\n",
       "      <td>6</td>\n",
       "      <td>1028</td>\n",
       "      <td>Benue, Nigeria</td>\n",
       "      <td>Benue</td>\n",
       "      <td>Photon</td>\n",
       "      <td>1793-Benue=6,654</td>\n",
       "      <td>POLYGON ((9.258333310815894 6.933333506965182,...</td>\n",
       "      <td>POINT (9.257578277261883 6.947313745536879)</td>\n",
       "      <td>0</td>\n",
       "      <td>Benue</td>\n",
       "      <td>Ushongo</td>\n",
       "      <td>1028</td>\n",
       "      <td>5.002134</td>\n",
       "      <td>['Redeem Clinic And Maternity', 'Faith Clinic ...</td>\n",
       "      <td>7</td>\n",
       "      <td>14</td>\n",
       "      <td>21</td>\n",
       "      <td>0.003156</td>\n",
       "    </tr>\n",
       "    <tr>\n",
       "      <th>1470</th>\n",
       "      <td>1738</td>\n",
       "      <td>5756</td>\n",
       "      <td>5</td>\n",
       "      <td>1117</td>\n",
       "      <td>Benue, Nigeria</td>\n",
       "      <td>Benue</td>\n",
       "      <td>Photon</td>\n",
       "      <td>1738-Benue=5,756</td>\n",
       "      <td>POLYGON ((9.204166644367202 7.23333350575957, ...</td>\n",
       "      <td>POINT (9.202831332799864 7.244532813330781)</td>\n",
       "      <td>0</td>\n",
       "      <td>Benue</td>\n",
       "      <td>Buruku</td>\n",
       "      <td>1117</td>\n",
       "      <td>5.002134</td>\n",
       "      <td>['Atii Clinic', 'Torkwembe Clinic', 'Tyowanye ...</td>\n",
       "      <td>8</td>\n",
       "      <td>10</td>\n",
       "      <td>18</td>\n",
       "      <td>0.003127</td>\n",
       "    </tr>\n",
       "    <tr>\n",
       "      <th>1879</th>\n",
       "      <td>1232</td>\n",
       "      <td>6507</td>\n",
       "      <td>5</td>\n",
       "      <td>1292</td>\n",
       "      <td>Tula, Kaltungo, Gombe, Nigeria</td>\n",
       "      <td>Tula</td>\n",
       "      <td>Nominatim</td>\n",
       "      <td>1232-Tula=6,507</td>\n",
       "      <td>POLYGON ((11.47083330191247 9.830833495320977,...</td>\n",
       "      <td>POINT (11.47397432754086 9.842247125504517)</td>\n",
       "      <td>1</td>\n",
       "      <td>Gombe</td>\n",
       "      <td>Kaltungo</td>\n",
       "      <td>0</td>\n",
       "      <td>5.162851</td>\n",
       "      <td>['Tantan Cottage Hospital', 'Wange Maternity',...</td>\n",
       "      <td>4</td>\n",
       "      <td>14</td>\n",
       "      <td>18</td>\n",
       "      <td>0.002766</td>\n",
       "    </tr>\n",
       "    <tr>\n",
       "      <th>...</th>\n",
       "      <td>...</td>\n",
       "      <td>...</td>\n",
       "      <td>...</td>\n",
       "      <td>...</td>\n",
       "      <td>...</td>\n",
       "      <td>...</td>\n",
       "      <td>...</td>\n",
       "      <td>...</td>\n",
       "      <td>...</td>\n",
       "      <td>...</td>\n",
       "      <td>...</td>\n",
       "      <td>...</td>\n",
       "      <td>...</td>\n",
       "      <td>...</td>\n",
       "      <td>...</td>\n",
       "      <td>...</td>\n",
       "      <td>...</td>\n",
       "      <td>...</td>\n",
       "      <td>...</td>\n",
       "      <td>...</td>\n",
       "    </tr>\n",
       "    <tr>\n",
       "      <th>1632</th>\n",
       "      <td>445</td>\n",
       "      <td>4724</td>\n",
       "      <td>1</td>\n",
       "      <td>2941</td>\n",
       "      <td>Geza Ketere, Kano, Nigeria</td>\n",
       "      <td>Geza Ketere</td>\n",
       "      <td>Photon</td>\n",
       "      <td>445-Geza Ketere=4,724</td>\n",
       "      <td>POLYGON ((8.509999980493964 12.17333348590715,...</td>\n",
       "      <td>POINT (8.513686849165991 12.18054308183778)</td>\n",
       "      <td>1</td>\n",
       "      <td>Kano</td>\n",
       "      <td>Minjibir</td>\n",
       "      <td>0</td>\n",
       "      <td>5.826171</td>\n",
       "      <td>NaN</td>\n",
       "      <td>0</td>\n",
       "      <td>0</td>\n",
       "      <td>0</td>\n",
       "      <td>0.000000</td>\n",
       "    </tr>\n",
       "    <tr>\n",
       "      <th>1858</th>\n",
       "      <td>1170</td>\n",
       "      <td>4247</td>\n",
       "      <td>0</td>\n",
       "      <td>8527</td>\n",
       "      <td>Hardo Deba, Gombe, Nigeria</td>\n",
       "      <td>Hardo Deba</td>\n",
       "      <td>Photon</td>\n",
       "      <td>1170-Hardo Deba=4,247</td>\n",
       "      <td>POLYGON ((11.29833330260664 10.13500016076529,...</td>\n",
       "      <td>POINT (11.30096488154342 10.14111127185184)</td>\n",
       "      <td>1</td>\n",
       "      <td>Gombe</td>\n",
       "      <td>Yamaltu/Deba</td>\n",
       "      <td>0</td>\n",
       "      <td>5.162851</td>\n",
       "      <td>NaN</td>\n",
       "      <td>0</td>\n",
       "      <td>0</td>\n",
       "      <td>0</td>\n",
       "      <td>0.000000</td>\n",
       "    </tr>\n",
       "    <tr>\n",
       "      <th>384</th>\n",
       "      <td>1223</td>\n",
       "      <td>4558</td>\n",
       "      <td>1</td>\n",
       "      <td>4280</td>\n",
       "      <td>Mashegu, Niger, Nigeria</td>\n",
       "      <td>Mashegu</td>\n",
       "      <td>Nominatim</td>\n",
       "      <td>1223-Mashegu=4,558</td>\n",
       "      <td>POLYGON ((4.832499995292757 9.915000161649402,...</td>\n",
       "      <td>POINT (4.838342798299555 9.920094858598647)</td>\n",
       "      <td>0</td>\n",
       "      <td>Niger</td>\n",
       "      <td>Mashegu</td>\n",
       "      <td>4280</td>\n",
       "      <td>5.101130</td>\n",
       "      <td>NaN</td>\n",
       "      <td>0</td>\n",
       "      <td>0</td>\n",
       "      <td>0</td>\n",
       "      <td>0.000000</td>\n",
       "    </tr>\n",
       "    <tr>\n",
       "      <th>100</th>\n",
       "      <td>214</td>\n",
       "      <td>4092</td>\n",
       "      <td>0</td>\n",
       "      <td>8824</td>\n",
       "      <td>Tunbun Buhari, Borno, Nigeria</td>\n",
       "      <td>Tunbun Buhari</td>\n",
       "      <td>Photon</td>\n",
       "      <td>214-Tunbun Buhari=4,092</td>\n",
       "      <td>POLYGON ((13.97249995851207 12.71250015040707,...</td>\n",
       "      <td>POINT (13.97254625480819 12.71594150841794)</td>\n",
       "      <td>0</td>\n",
       "      <td>Borno</td>\n",
       "      <td>Monguno</td>\n",
       "      <td>8824</td>\n",
       "      <td>6.038863</td>\n",
       "      <td>NaN</td>\n",
       "      <td>0</td>\n",
       "      <td>0</td>\n",
       "      <td>0</td>\n",
       "      <td>0.000000</td>\n",
       "    </tr>\n",
       "    <tr>\n",
       "      <th>1293</th>\n",
       "      <td>1446</td>\n",
       "      <td>6413</td>\n",
       "      <td>3</td>\n",
       "      <td>1639</td>\n",
       "      <td>Aha, Saki East, Oyo, Nigeria</td>\n",
       "      <td>Aha</td>\n",
       "      <td>Nominatim</td>\n",
       "      <td>1446-Aha=6,413</td>\n",
       "      <td>POLYGON ((3.441666667556338 8.615833500203706,...</td>\n",
       "      <td>POINT (3.441246795763143 8.625317474524563)</td>\n",
       "      <td>0</td>\n",
       "      <td>Oyo</td>\n",
       "      <td>Saki West</td>\n",
       "      <td>1639</td>\n",
       "      <td>5.128335</td>\n",
       "      <td>NaN</td>\n",
       "      <td>0</td>\n",
       "      <td>0</td>\n",
       "      <td>0</td>\n",
       "      <td>0.000000</td>\n",
       "    </tr>\n",
       "  </tbody>\n",
       "</table>\n",
       "<p>2119 rows × 20 columns</p>\n",
       "</div>"
      ],
      "text/plain": [
       "      label  population  area  density                         address  \\\n",
       "1179   2080        4442     2     1870            Ndoro, Abia, Nigeria   \n",
       "1397   1858        8176     5     1412         Effium, Ebonyi, Nigeria   \n",
       "1482   1793        6654     6     1028                  Benue, Nigeria   \n",
       "1470   1738        5756     5     1117                  Benue, Nigeria   \n",
       "1879   1232        6507     5     1292  Tula, Kaltungo, Gombe, Nigeria   \n",
       "...     ...         ...   ...      ...                             ...   \n",
       "1632    445        4724     1     2941      Geza Ketere, Kano, Nigeria   \n",
       "1858   1170        4247     0     8527      Hardo Deba, Gombe, Nigeria   \n",
       "384    1223        4558     1     4280         Mashegu, Niger, Nigeria   \n",
       "100     214        4092     0     8824   Tunbun Buhari, Borno, Nigeria   \n",
       "1293   1446        6413     3     1639    Aha, Saki East, Oyo, Nigeria   \n",
       "\n",
       "           address0 geolocator                label_out  \\\n",
       "1179          Ndoro     Photon         2080-Ndoro=4,442   \n",
       "1397         Effium     Photon        1858-Effium=8,176   \n",
       "1482          Benue     Photon         1793-Benue=6,654   \n",
       "1470          Benue     Photon         1738-Benue=5,756   \n",
       "1879           Tula  Nominatim          1232-Tula=6,507   \n",
       "...             ...        ...                      ...   \n",
       "1632    Geza Ketere     Photon    445-Geza Ketere=4,724   \n",
       "1858     Hardo Deba     Photon    1170-Hardo Deba=4,247   \n",
       "384         Mashegu  Nominatim       1223-Mashegu=4,558   \n",
       "100   Tunbun Buhari     Photon  214-Tunbun Buhari=4,092   \n",
       "1293            Aha  Nominatim           1446-Aha=6,413   \n",
       "\n",
       "                                               geometry  \\\n",
       "1179  POLYGON ((7.571666650936619 5.428333513013337,...   \n",
       "1397  POLYGON ((8.062499982294769 6.61916684156106, ...   \n",
       "1482  POLYGON ((9.258333310815894 6.933333506965182,...   \n",
       "1470  POLYGON ((9.204166644367202 7.23333350575957, ...   \n",
       "1879  POLYGON ((11.47083330191247 9.830833495320977,...   \n",
       "...                                                 ...   \n",
       "1632  POLYGON ((8.509999980493964 12.17333348590715,...   \n",
       "1858  POLYGON ((11.29833330260664 10.13500016076529,...   \n",
       "384   POLYGON ((4.832499995292757 9.915000161649402,...   \n",
       "100   POLYGON ((13.97249995851207 12.71250015040707,...   \n",
       "1293  POLYGON ((3.441666667556338 8.615833500203706,...   \n",
       "\n",
       "                                         centroid  ongrid    adm1  \\\n",
       "1179  POINT (7.566346785638176 5.439469876604948)       0    Abia   \n",
       "1397  POINT (8.058824271715256 6.631372913863443)       0  Ebonyi   \n",
       "1482  POINT (9.257578277261883 6.947313745536879)       0   Benue   \n",
       "1470  POINT (9.202831332799864 7.244532813330781)       0   Benue   \n",
       "1879  POINT (11.47397432754086 9.842247125504517)       1   Gombe   \n",
       "...                                           ...     ...     ...   \n",
       "1632  POINT (8.513686849165991 12.18054308183778)       1    Kano   \n",
       "1858  POINT (11.30096488154342 10.14111127185184)       1   Gombe   \n",
       "384   POINT (4.838342798299555 9.920094858598647)       0   Niger   \n",
       "100   POINT (13.97254625480819 12.71594150841794)       0   Borno   \n",
       "1293  POINT (3.441246795763143 8.625317474524563)       0     Oyo   \n",
       "\n",
       "              adm2  score  pred_solar  \\\n",
       "1179       Ikwuano   1870    1.670673   \n",
       "1397       Ohaukwu   1412    2.622899   \n",
       "1482       Ushongo   1028    5.002134   \n",
       "1470        Buruku   1117    5.002134   \n",
       "1879      Kaltungo      0    5.162851   \n",
       "...            ...    ...         ...   \n",
       "1632      Minjibir      0    5.826171   \n",
       "1858  Yamaltu/Deba      0    5.162851   \n",
       "384        Mashegu   4280    5.101130   \n",
       "100        Monguno   8824    6.038863   \n",
       "1293     Saki West   1639    5.128335   \n",
       "\n",
       "                                                    org  No. healthcare units  \\\n",
       "1179  ['Faith Clinic Maternity', 'Ndoro Health Cente...                     3   \n",
       "1397  ['Sudan United Missions Hospital Effium', 'Vic...                     5   \n",
       "1482  ['Redeem Clinic And Maternity', 'Faith Clinic ...                     7   \n",
       "1470  ['Atii Clinic', 'Torkwembe Clinic', 'Tyowanye ...                     8   \n",
       "1879  ['Tantan Cottage Hospital', 'Wange Maternity',...                     4   \n",
       "...                                                 ...                   ...   \n",
       "1632                                                NaN                     0   \n",
       "1858                                                NaN                     0   \n",
       "384                                                 NaN                     0   \n",
       "100                                                 NaN                     0   \n",
       "1293                                                NaN                     0   \n",
       "\n",
       "      No. school units  sum  Orgs/population  \n",
       "1179                12   15         0.003377  \n",
       "1397                22   27         0.003302  \n",
       "1482                14   21         0.003156  \n",
       "1470                10   18         0.003127  \n",
       "1879                14   18         0.002766  \n",
       "...                ...  ...              ...  \n",
       "1632                 0    0         0.000000  \n",
       "1858                 0    0         0.000000  \n",
       "384                  0    0         0.000000  \n",
       "100                  0    0         0.000000  \n",
       "1293                 0    0         0.000000  \n",
       "\n",
       "[2119 rows x 20 columns]"
      ]
     },
     "execution_count": 151,
     "metadata": {},
     "output_type": "execute_result"
    }
   ],
   "source": [
    "clust_new['sum'] = clust_new[['No. healthcare units','No. school units']].sum(axis=1)\n",
    "clust_new['Orgs/population'] = clust_new['sum'] / clust_new ['population']\n",
    "clust_new.sort_values(by = 'Orgs/population',ascending = False)"
   ]
  },
  {
   "cell_type": "code",
   "execution_count": 153,
   "metadata": {},
   "outputs": [],
   "source": [
    "clust_new.drop(['sum','Orgs/population'],axis=1,inplace=True)"
   ]
  },
  {
   "cell_type": "code",
   "execution_count": 154,
   "metadata": {},
   "outputs": [],
   "source": [
    "clust_new.to_excel('D:/Google Drive/01 Data/12 Omdena/Repo/clusters_1km/clusters_2.0.xlsx',index=False)"
   ]
  },
  {
   "cell_type": "markdown",
   "metadata": {},
   "source": [
    "# 500m clusters"
   ]
  },
  {
   "cell_type": "markdown",
   "metadata": {},
   "source": [
    "## Load files"
   ]
  },
  {
   "cell_type": "code",
   "execution_count": 155,
   "metadata": {},
   "outputs": [],
   "source": [
    "clust = pd.read_excel('D:/Google Drive/01 Data/12 Omdena/Repo/clusters_500m/clusters.xlsx')"
   ]
  },
  {
   "cell_type": "code",
   "execution_count": 158,
   "metadata": {},
   "outputs": [
    {
     "data": {
      "text/html": [
       "<div>\n",
       "<style scoped>\n",
       "    .dataframe tbody tr th:only-of-type {\n",
       "        vertical-align: middle;\n",
       "    }\n",
       "\n",
       "    .dataframe tbody tr th {\n",
       "        vertical-align: top;\n",
       "    }\n",
       "\n",
       "    .dataframe thead th {\n",
       "        text-align: right;\n",
       "    }\n",
       "</style>\n",
       "<table border=\"1\" class=\"dataframe\">\n",
       "  <thead>\n",
       "    <tr style=\"text-align: right;\">\n",
       "      <th></th>\n",
       "      <th>label</th>\n",
       "      <th>population</th>\n",
       "      <th>area</th>\n",
       "      <th>density</th>\n",
       "      <th>address0</th>\n",
       "      <th>geometry</th>\n",
       "      <th>centroid</th>\n",
       "      <th>ongrid</th>\n",
       "      <th>adm1</th>\n",
       "      <th>adm2</th>\n",
       "      <th>score</th>\n",
       "      <th>pred_solar</th>\n",
       "      <th>name</th>\n",
       "      <th>healthcare</th>\n",
       "      <th>school</th>\n",
       "      <th>pvout</th>\n",
       "      <th>max_relative_pv_output</th>\n",
       "      <th>min_relative_pv_output</th>\n",
       "      <th>mean_relative_pv_output</th>\n",
       "    </tr>\n",
       "  </thead>\n",
       "  <tbody>\n",
       "    <tr>\n",
       "      <th>566</th>\n",
       "      <td>805</td>\n",
       "      <td>6995</td>\n",
       "      <td>1</td>\n",
       "      <td>6845</td>\n",
       "      <td>Tungan Ali</td>\n",
       "      <td>POLYGON ((5.801666658059355 9.976666828068248,...</td>\n",
       "      <td>POINT (5.803629274873893 9.981472123999076)</td>\n",
       "      <td>0</td>\n",
       "      <td>Niger</td>\n",
       "      <td>Mashegu</td>\n",
       "      <td>6845</td>\n",
       "      <td>5.10113</td>\n",
       "      <td>NaN</td>\n",
       "      <td>0</td>\n",
       "      <td>0</td>\n",
       "      <td>4.165</td>\n",
       "      <td>0.857721</td>\n",
       "      <td>0.847448</td>\n",
       "      <td>0.856959</td>\n",
       "    </tr>\n",
       "  </tbody>\n",
       "</table>\n",
       "</div>"
      ],
      "text/plain": [
       "     label  population  area  density    address0  \\\n",
       "566    805        6995     1     6845  Tungan Ali   \n",
       "\n",
       "                                              geometry  \\\n",
       "566  POLYGON ((5.801666658059355 9.976666828068248,...   \n",
       "\n",
       "                                        centroid  ongrid   adm1     adm2  \\\n",
       "566  POINT (5.803629274873893 9.981472123999076)       0  Niger  Mashegu   \n",
       "\n",
       "     score  pred_solar name  healthcare  school  pvout  \\\n",
       "566   6845     5.10113  NaN           0       0  4.165   \n",
       "\n",
       "     max_relative_pv_output  min_relative_pv_output  mean_relative_pv_output  \n",
       "566                0.857721                0.847448                 0.856959  "
      ]
     },
     "execution_count": 158,
     "metadata": {},
     "output_type": "execute_result"
    }
   ],
   "source": [
    "clust.sample()"
   ]
  },
  {
   "cell_type": "markdown",
   "metadata": {},
   "source": [
    "# Apply per row"
   ]
  },
  {
   "cell_type": "code",
   "execution_count": 157,
   "metadata": {},
   "outputs": [
    {
     "name": "stderr",
     "output_type": "stream",
     "text": [
      "100%|██████████████████████████████████████████████████████████████████████████████| 1245/1245 [29:51<00:00,  1.44s/it]\n"
     ]
    }
   ],
   "source": [
    "tqdm.pandas() # to be able to see the progress of the apply function\n",
    "clust_new_500 = clust.progress_apply(get_num_schools_healthcare,gdf = gdf, axis=1)"
   ]
  },
  {
   "cell_type": "code",
   "execution_count": 159,
   "metadata": {},
   "outputs": [
    {
     "data": {
      "text/html": [
       "<div>\n",
       "<style scoped>\n",
       "    .dataframe tbody tr th:only-of-type {\n",
       "        vertical-align: middle;\n",
       "    }\n",
       "\n",
       "    .dataframe tbody tr th {\n",
       "        vertical-align: top;\n",
       "    }\n",
       "\n",
       "    .dataframe thead th {\n",
       "        text-align: right;\n",
       "    }\n",
       "</style>\n",
       "<table border=\"1\" class=\"dataframe\">\n",
       "  <thead>\n",
       "    <tr style=\"text-align: right;\">\n",
       "      <th></th>\n",
       "      <th>label</th>\n",
       "      <th>population</th>\n",
       "      <th>area</th>\n",
       "      <th>density</th>\n",
       "      <th>address0</th>\n",
       "      <th>geometry</th>\n",
       "      <th>centroid</th>\n",
       "      <th>ongrid</th>\n",
       "      <th>adm1</th>\n",
       "      <th>adm2</th>\n",
       "      <th>...</th>\n",
       "      <th>pred_solar</th>\n",
       "      <th>name</th>\n",
       "      <th>healthcare</th>\n",
       "      <th>school</th>\n",
       "      <th>pvout</th>\n",
       "      <th>max_relative_pv_output</th>\n",
       "      <th>min_relative_pv_output</th>\n",
       "      <th>mean_relative_pv_output</th>\n",
       "      <th>No. healthcare units</th>\n",
       "      <th>No. school units</th>\n",
       "    </tr>\n",
       "  </thead>\n",
       "  <tbody>\n",
       "    <tr>\n",
       "      <th>938</th>\n",
       "      <td>1094</td>\n",
       "      <td>9354</td>\n",
       "      <td>1</td>\n",
       "      <td>5501</td>\n",
       "      <td>Ikeji</td>\n",
       "      <td>POLYGON ((4.94583332817002 7.422500171666031, ...</td>\n",
       "      <td>POINT (4.949807286487352 7.429547046637728)</td>\n",
       "      <td>1</td>\n",
       "      <td>Osun</td>\n",
       "      <td>Oriade</td>\n",
       "      <td>...</td>\n",
       "      <td>4.763178</td>\n",
       "      <td>['Ikeji Arakeji Health Center', 'Nawair Ud Dee...</td>\n",
       "      <td>1</td>\n",
       "      <td>7</td>\n",
       "      <td>7.508</td>\n",
       "      <td>0.774982</td>\n",
       "      <td>0.762357</td>\n",
       "      <td>0.773275</td>\n",
       "      <td>1</td>\n",
       "      <td>7</td>\n",
       "    </tr>\n",
       "  </tbody>\n",
       "</table>\n",
       "<p>1 rows × 21 columns</p>\n",
       "</div>"
      ],
      "text/plain": [
       "     label  population  area  density address0  \\\n",
       "938   1094        9354     1     5501    Ikeji   \n",
       "\n",
       "                                              geometry  \\\n",
       "938  POLYGON ((4.94583332817002 7.422500171666031, ...   \n",
       "\n",
       "                                        centroid  ongrid  adm1    adm2  ...  \\\n",
       "938  POINT (4.949807286487352 7.429547046637728)       1  Osun  Oriade  ...   \n",
       "\n",
       "     pred_solar                                               name healthcare  \\\n",
       "938    4.763178  ['Ikeji Arakeji Health Center', 'Nawair Ud Dee...          1   \n",
       "\n",
       "     school  pvout  max_relative_pv_output  min_relative_pv_output  \\\n",
       "938       7  7.508                0.774982                0.762357   \n",
       "\n",
       "     mean_relative_pv_output  No. healthcare units  No. school units  \n",
       "938                 0.773275                     1                 7  \n",
       "\n",
       "[1 rows x 21 columns]"
      ]
     },
     "execution_count": 159,
     "metadata": {},
     "output_type": "execute_result"
    }
   ],
   "source": [
    "clust_new_500.sample()"
   ]
  },
  {
   "cell_type": "markdown",
   "metadata": {},
   "source": [
    "## Check differences"
   ]
  },
  {
   "cell_type": "markdown",
   "metadata": {},
   "source": [
    "### Check difference in healthcare"
   ]
  },
  {
   "cell_type": "code",
   "execution_count": 189,
   "metadata": {},
   "outputs": [
    {
     "data": {
      "text/plain": [
       "(20, 19)"
      ]
     },
     "execution_count": 189,
     "metadata": {},
     "output_type": "execute_result"
    }
   ],
   "source": [
    "filter_diff_health = clust_new_500['healthcare'] != clust_new_500['No. healthcare units']\n",
    "clust_new_500.loc[filter_diff_health,:].shape"
   ]
  },
  {
   "cell_type": "markdown",
   "metadata": {},
   "source": [
    "### Check difference in schools"
   ]
  },
  {
   "cell_type": "code",
   "execution_count": 190,
   "metadata": {},
   "outputs": [
    {
     "data": {
      "text/plain": [
       "(29, 19)"
      ]
     },
     "execution_count": 190,
     "metadata": {},
     "output_type": "execute_result"
    }
   ],
   "source": [
    "filter_diff_school = clust_new_500['school'] != clust_new_500['No. school units']\n",
    "clust_new_500.loc[filter_diff_school,:].shape"
   ]
  },
  {
   "cell_type": "markdown",
   "metadata": {},
   "source": [
    "### Check Kafin Madaki"
   ]
  },
  {
   "cell_type": "code",
   "execution_count": 174,
   "metadata": {},
   "outputs": [],
   "source": [
    "clust_new_500.loc[clust_new_500['address0'].str.contains('Kafin Madaki'),:]\n",
    "indx = clust_new_500.loc[clust_new_500['address0'].str.contains('Kafin Madaki'),:].index"
   ]
  },
  {
   "cell_type": "code",
   "execution_count": 180,
   "metadata": {},
   "outputs": [
    {
     "data": {
      "text/plain": [
       "[['ECCDE Kofar Buri',\n",
       "  'Kefin',\n",
       "  'Madarasatul Miftahul Islam',\n",
       "  'Kafin A',\n",
       "  'Wali Islamaiyya',\n",
       "  'Madarasatul Tahfizul Quran Wattartil Badau',\n",
       "  'Formwan',\n",
       "  'Badau Primary School',\n",
       "  'Unguwa Kwari Primary School',\n",
       "  'Haka Tafi Primary School',\n",
       "  'ECCDE Unguwar Kwari',\n",
       "  'Government Day Junior Technical School K Madaki',\n",
       "  'Kofar Buri Primary School',\n",
       "  'GDST',\n",
       "  'Government Junior Technical Secondary School',\n",
       "  'ECCDE Badau',\n",
       "  'Tahfizul QuraaAn',\n",
       "  'Government Junior Secondary School',\n",
       "  'ECCDE Kafin Madaki',\n",
       "  'Kalasu Primary School',\n",
       "  'Yayaji Islamiyya',\n",
       "  'Government Day Junior Secondary School',\n",
       "  'Central Primary School K Madaki',\n",
       "  'Fudiyya Islamiyya',\n",
       "  'Sheikh Gumi',\n",
       "  'Madarasatul Iqamatus Sunna',\n",
       "  'Nurul Islam',\n",
       "  'Madarasatul Ihyaus Sunna',\n",
       "  'C O A and Islamic Studies',\n",
       "  'Madarasatul Tahfiz Tarhrib',\n",
       "  'Abu Furera Islammiya',\n",
       "  'Kafin Madaki Maternity']]"
      ]
     },
     "execution_count": 180,
     "metadata": {},
     "output_type": "execute_result"
    }
   ],
   "source": [
    "clust_new_500.loc[indx,:].apply(get_org_names,gdf=gdf,axis=1)['org names'].values.tolist()"
   ]
  },
  {
   "cell_type": "markdown",
   "metadata": {},
   "source": [
    "checking online: https://myspotfinder.com/page/3/?s=kafin+madaki the region does seem to have many schools."
   ]
  },
  {
   "cell_type": "code",
   "execution_count": 181,
   "metadata": {},
   "outputs": [],
   "source": [
    "clust_new_500['healthcare'] = clust_new_500['No. healthcare units']\n",
    "clust_new_500['school'] = clust_new_500['No. school units']"
   ]
  },
  {
   "cell_type": "code",
   "execution_count": 183,
   "metadata": {},
   "outputs": [],
   "source": [
    "clust_new_500.drop(['No. healthcare units', 'No. school units'],axis=1,inplace=True)"
   ]
  },
  {
   "cell_type": "code",
   "execution_count": 186,
   "metadata": {},
   "outputs": [],
   "source": [
    "clust_new_500.to_excel('D:/Google Drive/01 Data/12 Omdena/Repo/clusters_500m/clusters_2.0.xlsx',index = False)"
   ]
  }
 ],
 "metadata": {
  "kernelspec": {
   "display_name": "Python 3",
   "language": "python",
   "name": "python3"
  },
  "language_info": {
   "codemirror_mode": {
    "name": "ipython",
    "version": 3
   },
   "file_extension": ".py",
   "mimetype": "text/x-python",
   "name": "python",
   "nbconvert_exporter": "python",
   "pygments_lexer": "ipython3",
   "version": "3.7.3"
  },
  "toc-autonumbering": true
 },
 "nbformat": 4,
 "nbformat_minor": 2
}
