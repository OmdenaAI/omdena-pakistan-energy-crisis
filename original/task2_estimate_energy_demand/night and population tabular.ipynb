{
 "cells": [
  {
   "cell_type": "code",
   "execution_count": null,
   "metadata": {},
   "outputs": [],
   "source": [
    "\"\"\"\n",
    "    the current threshold for zero-light pixel is <=0.2\n",
    "    Filter the pixel with night <=0.2 & pop >0 to have populated zero light pixel\n",
    "    \"\"\""
   ]
  },
  {
   "cell_type": "code",
   "execution_count": null,
   "metadata": {},
   "outputs": [],
   "source": [
    "import os\n",
    "import rasterio\n",
    "from rasterio.warp import reproject, Resampling\n",
    "import numpy as np\n",
    "import pandas as pd\n",
    "import matplotlib.pyplot as plt\n",
    "%matplotlib inline"
   ]
  },
  {
   "cell_type": "code",
   "execution_count": null,
   "metadata": {},
   "outputs": [],
   "source": [
    "path = 'data'\n",
    "light = rasterio.open(f'{path}/NightTimeRasters_100.tif',mode='r') \n",
    "pop = rasterio.open(f'{path}/Grid3.tif',mode='r') "
   ]
  },
  {
   "cell_type": "code",
   "execution_count": null,
   "metadata": {},
   "outputs": [],
   "source": [
    "night_band = light.read(1)\n",
    "pop_band = pop.read(1)"
   ]
  },
  {
   "cell_type": "code",
   "execution_count": null,
   "metadata": {},
   "outputs": [],
   "source": [
    "night_band = np.argwhere(night_band)\n",
    "night_band_df = pd.DataFrame(night_band)\n",
    "night_band_df.columns = ['px','py']"
   ]
  },
  {
   "cell_type": "code",
   "execution_count": null,
   "metadata": {},
   "outputs": [],
   "source": [
    "pop_band = np.argwhere(pop_band)\n",
    "pop_band_df = pd.DataFrame(pop_band)\n",
    "pop_band_df.columns = ['px','py']"
   ]
  },
  {
   "cell_type": "code",
   "execution_count": null,
   "metadata": {},
   "outputs": [],
   "source": [
    "night_pop = pop_band_df.merge(night_band_df, how= 'inner')"
   ]
  },
  {
   "cell_type": "code",
   "execution_count": null,
   "metadata": {},
   "outputs": [],
   "source": [
    "lon = []\n",
    "lat = []\n",
    "for px, py in zip(night_pop['px'], night_pop['py']):\n",
    "    \"\"\"\n",
    "    convert pixel index to coordinate\n",
    "    \"\"\"\n",
    "    with rasterio.open('nightTimeRasters_100.tif') as map_layer:\n",
    "        lo = map_layer.xy(px, py)[0]\n",
    "        lon.append(lo)\n",
    "        la = map_layer.xy(px, py)[1]\n",
    "        lat.append(la)"
   ]
  },
  {
   "cell_type": "code",
   "execution_count": null,
   "metadata": {},
   "outputs": [],
   "source": [
    "longitude = pd.DataFrame(lon)\n",
    "longitude.columns = ['lon']\n",
    "lattitude = pd.DataFrame(lat)\n",
    "lattitude.columns = ['lat']\n",
    "lon_lat = longitude.merge(lattitude, how = 'outer', left_index=True, right_index=True)\n",
    "night_pop = night_pop.merge(lon_lat, how = 'outer', left_index=True, right_index=True)"
   ]
  },
  {
   "cell_type": "code",
   "execution_count": null,
   "metadata": {},
   "outputs": [],
   "source": [
    "def from_pixel_to_pop(px,py):\n",
    "        \"\"\"\n",
    "        population from pixel coord\n",
    "        \"\"\"\n",
    "    return pop_band[px,py]\n",
    "def from_pixel_to_light(px, py):\n",
    "    \"\"\"\n",
    "    light from pixel coord\n",
    "    \"\"\"\n",
    "    return night_band[px, py]"
   ]
  },
  {
   "cell_type": "code",
   "execution_count": null,
   "metadata": {},
   "outputs": [],
   "source": [
    "pop = []\n",
    "light = []\n",
    "for px, py in zip(night_pop['px'], night_pop['py']):\n",
    "    p = from_pixel_to_pop(px, py)\n",
    "    l = from_pixel_to_light(px,py)\n",
    "    pop.append(p)\n",
    "    light.append(l)"
   ]
  },
  {
   "cell_type": "code",
   "execution_count": null,
   "metadata": {},
   "outputs": [],
   "source": [
    "population = pd.DataFrame(pop)\n",
    "population.columns = ['pop']\n",
    "lightnight = pd.DataFrame(light)\n",
    "lightnight.columns = ['light']"
   ]
  },
  {
   "cell_type": "code",
   "execution_count": null,
   "metadata": {},
   "outputs": [],
   "source": [
    "night_pop = night_pop.merge(population, how = 'outer', left_index=True, right_index=True)\n",
    "night_pop = night_pop.merge(lightnight, how = 'outer', left_index=True, right_index=True)"
   ]
  },
  {
   "cell_type": "code",
   "execution_count": null,
   "metadata": {},
   "outputs": [],
   "source": [
    "night_pop['coord'] = night_pop['lat'].apply(lambda x: str(x))+\",\"+night_pop['lon'].apply(lambda x: str(x))"
   ]
  },
  {
   "cell_type": "code",
   "execution_count": null,
   "metadata": {},
   "outputs": [],
   "source": [
    "night_pop.to_csv(f'{path}/population and light.csv',index=False)"
   ]
  }
 ],
 "metadata": {
  "kernelspec": {
   "display_name": "Python 3",
   "language": "python",
   "name": "python3"
  },
  "language_info": {
   "codemirror_mode": {
    "name": "ipython",
    "version": 3
   },
   "file_extension": ".py",
   "mimetype": "text/x-python",
   "name": "python",
   "nbconvert_exporter": "python",
   "pygments_lexer": "ipython3",
   "version": "3.7.0"
  },
  "toc": {
   "base_numbering": 1,
   "nav_menu": {},
   "number_sections": true,
   "sideBar": true,
   "skip_h1_title": false,
   "title_cell": "Table of Contents",
   "title_sidebar": "Contents",
   "toc_cell": false,
   "toc_position": {},
   "toc_section_display": true,
   "toc_window_display": false
  },
  "varInspector": {
   "cols": {
    "lenName": 16,
    "lenType": 16,
    "lenVar": 40
   },
   "kernels_config": {
    "python": {
     "delete_cmd_postfix": "",
     "delete_cmd_prefix": "del ",
     "library": "var_list.py",
     "varRefreshCmd": "print(var_dic_list())"
    },
    "r": {
     "delete_cmd_postfix": ") ",
     "delete_cmd_prefix": "rm(",
     "library": "var_list.r",
     "varRefreshCmd": "cat(var_dic_list()) "
    }
   },
   "types_to_exclude": [
    "module",
    "function",
    "builtin_function_or_method",
    "instance",
    "_Feature"
   ],
   "window_display": true
  }
 },
 "nbformat": 4,
 "nbformat_minor": 2
}
